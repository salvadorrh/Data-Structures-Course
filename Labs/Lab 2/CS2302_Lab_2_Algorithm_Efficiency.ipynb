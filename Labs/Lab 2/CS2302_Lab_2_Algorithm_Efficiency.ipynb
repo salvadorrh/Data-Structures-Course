{
  "nbformat": 4,
  "nbformat_minor": 0,
  "metadata": {
    "colab": {
      "name": "Copy of CS2302 - Lab 2 - Algorithm Efficiency",
      "provenance": [],
      "collapsed_sections": []
    },
    "kernelspec": {
      "name": "python3",
      "display_name": "Python 3"
    }
  },
  "cells": [
    {
      "cell_type": "markdown",
      "metadata": {
        "colab_type": "text",
        "id": "MKsRDH5ZUdfasdv"
      },
      "source": [
        "\n",
        "\n",
        "# CS 2302 - Lab 2 - Algorithm Efficiency"
      ]
    },
    {
      "cell_type": "markdown",
      "metadata": {
        "id": "RPokSITB2Nku",
        "colab_type": "text"
      },
      "source": [
        "## **Before you start**\n",
        "\n",
        "Make a copy of this Colab by clicking on File > Save a Copy in Drive\n",
        "\n",
        "Name: Salvador Robles Herrera\n",
        "\n",
        "Student ID: 80683116"
      ]
    },
    {
      "cell_type": "markdown",
      "metadata": {
        "colab_type": "text",
        "id": "overview"
      },
      "source": [
        "## Overview\n",
        "\n",
        "As stated in class, we can measure the performance of algorithms by analyzing their space and time complexities. In this lab, you will 1) write and analyze algorithms with different time and space complexities, and 2) learn some key problem solving concepts that will prepare you to write algorithms that perform well. \n",
        "\n"
      ]
    },
    {
      "cell_type": "markdown",
      "metadata": {
        "id": "6gKL1mrkyLux",
        "colab_type": "text"
      },
      "source": [
        "### Grading\n",
        "As stated in the syllabus, your lab consists of two parts: the source code  and the report. This colab counts as your source code submission only. However, for your report submission, you  are more than welcome to extend your colab to include what is required for the report. Alternatively, you can use any other text editor to write your lab report (Google Docs, Word, etc.). I personally recommend to stick to Google Colab as you can write code to draw the required plots, which makes the whole process simpler. \n",
        "\n",
        "Each subsection in this colab is marked with point values, totaling 100 points.\n"
      ]
    },
    {
      "cell_type": "markdown",
      "metadata": {
        "id": "cBO-Xrldpe62",
        "colab_type": "text"
      },
      "source": [
        "## Problem 1 - Passwords\n",
        "\n",
        "Context: In 2015, [Mark Burnett released 10 million passwords](https://xato.net/today-i-am-releasing-ten-million-passwords-b6278bbe7495) people use to access online accounts. Security researchers use data sets like this one all the time to better understand user behavior and develop measures to improve password security. Let's go ahead and use this data set to find the *k* most used passwords. "
      ]
    },
    {
      "cell_type": "markdown",
      "metadata": {
        "id": "S-EOHG9ExVRM",
        "colab_type": "text"
      },
      "source": [
        "### Downloading and Reading the data set\n",
        "\n",
        "Download the data set from Mark's [original post](https://xato.net/today-i-am-releasing-ten-million-passwords-b6278bbe7495) (search for \"The Download Link\" to easily find the Mega link).  \n",
        "\n",
        "Upload the zip file (10-million-combos.zip) to this Colab by running the following code cell. "
      ]
    },
    {
      "cell_type": "code",
      "metadata": {
        "id": "JSUmi3EnyVEQ",
        "colab_type": "code",
        "colab": {
          "resources": {
            "http://localhost:8080/nbextensions/google.colab/files.js": {
              "data": "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",
              "ok": true,
              "headers": [
                [
                  "content-type",
                  "application/javascript"
                ]
              ],
              "status": 200,
              "status_text": ""
            }
          },
          "base_uri": "https://localhost:8080/",
          "height": 592
        },
        "outputId": "8cd439a8-bf5d-45f4-9471-3464b9922380"
      },
      "source": [
        "# Import the files package\n",
        "from google.colab import files\n",
        "\n",
        "# Get a list of the zip files that have been uploaded into your colab\n",
        "# environment.\n",
        "zip_uploaded = !ls *.zip\n",
        "\n",
        "# If the zip file is not already in the colab enviroment, upload it\n",
        "if ('10-million-combos.zip' not in zip_uploaded):\n",
        "  uploaded = files.upload()\n",
        "\n",
        "# Unzip file\n",
        "import zipfile\n",
        "with zipfile.ZipFile('10-million-combos.zip', 'r') as zip_ref:\n",
        "    zip_ref.extractall()\n",
        "\n",
        "# Read the resulting txt file and print the first 15 lines \n",
        "passwords_file = open(\"10-million-combos.txt\", \"r\", encoding=\"ISO-8859-1\")\n",
        "\n",
        "for i in range(15):\n",
        "  line = passwords_file.readline()\n",
        "  print(line) "
      ],
      "execution_count": 4,
      "outputs": [
        {
          "output_type": "display_data",
          "data": {
            "text/html": [
              "\n",
              "     <input type=\"file\" id=\"files-7f4f2a38-bb22-4948-a30c-ef92cdf495ab\" name=\"files[]\" multiple disabled\n",
              "        style=\"border:none\" />\n",
              "     <output id=\"result-7f4f2a38-bb22-4948-a30c-ef92cdf495ab\">\n",
              "      Upload widget is only available when the cell has been executed in the\n",
              "      current browser session. Please rerun this cell to enable.\n",
              "      </output>\n",
              "      <script src=\"/nbextensions/google.colab/files.js\"></script> "
            ],
            "text/plain": [
              "<IPython.core.display.HTML object>"
            ]
          },
          "metadata": {
            "tags": []
          }
        },
        {
          "output_type": "stream",
          "text": [
            "Saving 10-million-combos.zip to 10-million-combos.zip\n",
            "0000\t00000000\n",
            "\n",
            "0000\t00001\n",
            "\n",
            "0000\t00001111\n",
            "\n",
            "0000\t000099\n",
            "\n",
            "0000\t00009999\n",
            "\n",
            "0000\t0000w\n",
            "\n",
            "0000\t5927499\n",
            "\n",
            "0000\t634252\n",
            "\n",
            "0000\t6911703\n",
            "\n",
            "0000\t701068\n",
            "\n",
            "0000\t721010\n",
            "\n",
            "_0000\t7227545yfnfif\n",
            "\n",
            "0000\t77777777\n",
            "\n",
            "0000\t8888\n",
            "\n",
            "0000\t99999\n",
            "\n"
          ],
          "name": "stdout"
        }
      ]
    },
    {
      "cell_type": "markdown",
      "metadata": {
        "id": "BX_NE8c58vUB",
        "colab_type": "text"
      },
      "source": [
        "Let's create a class called PasswordTuple to store two pieces of information: a password (string), and the number of times the password appears in the file (integer). Run the following code cell to create the class."
      ]
    },
    {
      "cell_type": "code",
      "metadata": {
        "id": "IBqUVZ419DnC",
        "colab_type": "code",
        "colab": {}
      },
      "source": [
        "class PasswordTuple(object):\n",
        "  def __init__(self, password, count):\n",
        "    self.password = password\n",
        "    self.count = count\n",
        "\n",
        "  def __str__(self):\n",
        "    return \"password: \" + str(self.password) + \", count: \" + str(self.count)\n"
      ],
      "execution_count": 2,
      "outputs": []
    },
    {
      "cell_type": "markdown",
      "metadata": {
        "id": "2bjNKS1j-Vqx",
        "colab_type": "text"
      },
      "source": [
        "Let's read all the passwords in the file and create a list of PasswordTuple objects. The idea is to count how many times each password appears in the file. There will be an object per password, and all objects will be stored in a list. "
      ]
    },
    {
      "cell_type": "code",
      "metadata": {
        "id": "UtI5BHOK-xKc",
        "colab_type": "code",
        "colab": {
          "base_uri": "https://localhost:8080/",
          "height": 235
        },
        "outputId": "010c8c03-6107-4203-e64d-669638f59e97"
      },
      "source": [
        "# Read the passwords txt file \n",
        "passwords_file = open(\"10-million-combos.txt\", \"r\", encoding=\"ISO-8859-1\")\n",
        "\n",
        "# Create list of PasswordTuple objects\n",
        "passwords_lst = []\n",
        "\n",
        "# Dictionary used to map password string to their corresponding objects\n",
        "# in the list. - It's OK if you do not know what a dictionary is. We will go \n",
        "# over this in class -\n",
        "password_to_obj = {}\n",
        "\n",
        "\n",
        "for line in passwords_file:\n",
        "  # The username and password are separated by \\t. \n",
        "  # Extract password only from each line\n",
        "  try:\n",
        "    password = line.split(\"\\t\")[1]  \n",
        "  except:\n",
        "    print(\"Skipping line as it does not contain username and/or password: \", line)\n",
        "    continue  # skip the line\n",
        "\n",
        "  # Remove new line character \\n from the end of the line\n",
        "  password = password.replace(\"\\n\",\"\")\n",
        "\n",
        "  if password in password_to_obj: \n",
        "    password_obj = password_to_obj[password]\n",
        "    password_obj.count += 1\n",
        "  else:\n",
        "    password_obj = PasswordTuple(password=password, count=1)\n",
        "    passwords_lst.append(password_obj)\n",
        "    password_to_obj[password] = password_obj\n",
        "  \n",
        "\n"
      ],
      "execution_count": 3,
      "outputs": [
        {
          "output_type": "error",
          "ename": "FileNotFoundError",
          "evalue": "ignored",
          "traceback": [
            "\u001b[0;31m---------------------------------------------------------------------------\u001b[0m",
            "\u001b[0;31mFileNotFoundError\u001b[0m                         Traceback (most recent call last)",
            "\u001b[0;32m<ipython-input-3-46f31254d2f4>\u001b[0m in \u001b[0;36m<module>\u001b[0;34m()\u001b[0m\n\u001b[1;32m      1\u001b[0m \u001b[0;31m# Read the passwords txt file\u001b[0m\u001b[0;34m\u001b[0m\u001b[0;34m\u001b[0m\u001b[0;34m\u001b[0m\u001b[0m\n\u001b[0;32m----> 2\u001b[0;31m \u001b[0mpasswords_file\u001b[0m \u001b[0;34m=\u001b[0m \u001b[0mopen\u001b[0m\u001b[0;34m(\u001b[0m\u001b[0;34m\"10-million-combos.txt\"\u001b[0m\u001b[0;34m,\u001b[0m \u001b[0;34m\"r\"\u001b[0m\u001b[0;34m,\u001b[0m \u001b[0mencoding\u001b[0m\u001b[0;34m=\u001b[0m\u001b[0;34m\"ISO-8859-1\"\u001b[0m\u001b[0;34m)\u001b[0m\u001b[0;34m\u001b[0m\u001b[0;34m\u001b[0m\u001b[0m\n\u001b[0m\u001b[1;32m      3\u001b[0m \u001b[0;34m\u001b[0m\u001b[0m\n\u001b[1;32m      4\u001b[0m \u001b[0;31m# Create list of PasswordTuple objects\u001b[0m\u001b[0;34m\u001b[0m\u001b[0;34m\u001b[0m\u001b[0;34m\u001b[0m\u001b[0m\n\u001b[1;32m      5\u001b[0m \u001b[0mpasswords_lst\u001b[0m \u001b[0;34m=\u001b[0m \u001b[0;34m[\u001b[0m\u001b[0;34m]\u001b[0m\u001b[0;34m\u001b[0m\u001b[0;34m\u001b[0m\u001b[0m\n",
            "\u001b[0;31mFileNotFoundError\u001b[0m: [Errno 2] No such file or directory: '10-million-combos.txt'"
          ]
        }
      ]
    },
    {
      "cell_type": "markdown",
      "metadata": {
        "id": "pFy-4WdHHAGN",
        "colab_type": "text"
      },
      "source": [
        "Now we have our processed data stored in *passwords_lst*. Let's print the contents of some of the objects stored in the list."
      ]
    },
    {
      "cell_type": "code",
      "metadata": {
        "id": "JW-4o8svHeXu",
        "colab_type": "code",
        "colab": {
          "base_uri": "https://localhost:8080/",
          "height": 86
        },
        "outputId": "a2fa9c7e-8015-441f-d227-2872584cd8e8"
      },
      "source": [
        "print(passwords_lst[1111])\n",
        "\n",
        "print(passwords_lst[128012])\n",
        "\n",
        "print(passwords_lst[400345])\n",
        "\n",
        "print(passwords_lst[812564])"
      ],
      "execution_count": null,
      "outputs": [
        {
          "output_type": "stream",
          "text": [
            "password: 2984313, count: 4\n",
            "password: GRose, count: 1\n",
            "password: 89022769259, count: 1\n",
            "password: flatiron, count: 9\n"
          ],
          "name": "stdout"
        }
      ]
    },
    {
      "cell_type": "markdown",
      "metadata": {
        "id": "gWYp0DwjLxc0",
        "colab_type": "text"
      },
      "source": [
        "Let's solve the main problem now. In this part of the lab, you will implement three different solutions to find the *k* most used passwords.\n",
        "\n",
        "1. [10 points] Sort *passwords_lst* using bubble sort, then find the *k* (parameter) most used passwords. If running this algorithm takes a long time, try using a subset of the list. \n",
        "\n",
        "2. [10 points] Sort *passwords_lst* using quicksort, then find the *k* (parameter) most used passwords. If running this algorithm takes a long time, try using a subset of the list. \n",
        "\n",
        "3. [20 points] Implement a modified version of quicksort that makes only one recursive call. Quicksort  splits the input list into two sublists, one containing elements that are smaller than the pivot and one containing elements that are greater or equal to the pivot. Depending on the length of the first sublist, the *k*th element can be an element of the first sublist, the pivot, or a member of the second sublist. Using this observation, this modified version of quicksort makes a single recursive call to the sublist where the *k*th element is."
      ]
    },
    {
      "cell_type": "code",
      "metadata": {
        "id": "COFt8tqnOS6E",
        "colab_type": "code",
        "colab": {}
      },
      "source": [
        "# Solution 1 code goes here\n",
        "\n",
        "def solution1Prob1(k):\n",
        "  print(\"Entered solution1Prob1...\")\n",
        "  arrayPasswords = getSubArray()\n",
        "  if k > len(arrayPasswords):\n",
        "    print(\"Note that k is larger than the number of passwords\")\n",
        "\n",
        "  printArray(arrayPasswords)\n",
        "\n",
        "  for i in range(len(arrayPasswords)-1):\n",
        "    for j in range(len(arrayPasswords) - i -1):\n",
        "      if arrayPasswords[j].count > arrayPasswords[j+1].count:\n",
        "        temp = arrayPasswords[j]\n",
        "        arrayPasswords[j] = arrayPasswords[j+1]\n",
        "        arrayPasswords[j+1] = temp\n",
        "\n",
        "  printArray(arrayPasswords)\n",
        "\n",
        "  sortedArray = arrayPasswords[len(arrayPasswords)- k:]\n",
        "\n",
        "  print(\"Print subset of array\")\n",
        "\n",
        "  printArray(sortedArray)\n",
        "  #for i in range(k):\n",
        "    #sortedArray.append(arrayPasswords)\n",
        "  return sortedArray\n",
        "\n",
        "def getSubArray():\n",
        "  print(\"Get sub-array\")\n",
        "  newArray = []\n",
        "  for i in range(20):\n",
        "    newArray.append(passwords_lst[i])\n",
        "  return newArray\n",
        "\n",
        "def printArray(array):\n",
        "  print(\"Print Array: \")\n",
        "  for i in range(len(array)):\n",
        "    print(array[i])"
      ],
      "execution_count": 10,
      "outputs": []
    },
    {
      "cell_type": "code",
      "metadata": {
        "id": "8Q69ZFtOOYfY",
        "colab_type": "code",
        "colab": {}
      },
      "source": [
        "# Solution 2 code goes here\n",
        "\n",
        "def solution2Prob1(k):\n",
        "  print(\"Entered solution2Prob1...\")\n",
        "  arrayPasswords = getSubArray()\n",
        "  if k > len(arrayPasswords):\n",
        "    print(\"Note that k is larger than the number of passwords\")\n",
        "\n",
        "  printArray(arrayPasswords)\n",
        "  quicksort(arrayPasswords, 0, len(arrayPasswords)-1)\n",
        "  printArray(arrayPasswords)\n",
        "  \n",
        "  sortedArray = arrayPasswords[len(arrayPasswords)- k:]\n",
        "  print(\"Print subset of array\")\n",
        "  printArray(sortedArray)\n",
        "  print(\"Finsish and return\")\n",
        "  return sortedArray\n",
        "\n",
        "def quicksort(arr, low, high):\n",
        "  if len(arr) == 1:\n",
        "    return arr\n",
        "  if low < high:\n",
        "    pi = partition(arr, low, high)\n",
        "\n",
        "    quicksort(arr, low, pi-1)\n",
        "    quicksort(arr, pi+1, high)\n",
        "\n",
        "def partition(arr, low, high):\n",
        "  i = (low-1)       \n",
        "  pivot = arr[high].count     \n",
        " \n",
        "  for j in range(low, high):\n",
        "    if arr[j].count <= pivot:\n",
        "      i = i+1\n",
        "      arr[i], arr[j] = arr[j], arr[i]\n",
        " \n",
        "  arr[i+1], arr[high] = arr[high], arr[i+1]\n",
        "  return (i+1)"
      ],
      "execution_count": 1,
      "outputs": []
    },
    {
      "cell_type": "code",
      "metadata": {
        "id": "3khbdf3JOZhM",
        "colab_type": "code",
        "colab": {}
      },
      "source": [
        "# Solution 3 code goes here\n",
        "\n",
        "def solution3Prob1(k):\n",
        "  print(\"Entered solution3Prob1...\")\n",
        "  arrayPasswords = getSubArray()\n",
        "  if k > len(arrayPasswords):\n",
        "    print(\"Note that k is larger than the number of passwords\")\n",
        "  \n",
        "  quicksortModified(arrayPasswords, 0, len(arrayPasswords) - 1, k)\n",
        "\n",
        "def quicksorModified(arr, low, high, k):\n",
        "  if len(arr) == 1:\n",
        "    return arr\n",
        "  if low < high:\n",
        "    pi = partition(arr, low, high)\n",
        "    \n",
        "    quicksort(arr, low, pi-1)\n",
        "    quicksort(arr, pi+1, high)"
      ],
      "execution_count": 12,
      "outputs": []
    },
    {
      "cell_type": "code",
      "metadata": {
        "id": "bUKdaZa1ZR4Q",
        "colab_type": "code",
        "colab": {
          "base_uri": "https://localhost:8080/",
          "height": 901
        },
        "outputId": "272595e1-013c-4e97-9637-3c56c7d83bc7"
      },
      "source": [
        "# Test code goes here - Use this code cell to call the methods you wrote in \n",
        "# the previous code cells. You can think of this code cell as your *main* cell\n",
        "\n",
        "#solution1Prob1(2)\n",
        "solution2Prob1(2)"
      ],
      "execution_count": 15,
      "outputs": [
        {
          "output_type": "stream",
          "text": [
            "Entered solution2Prob1...\n",
            "Get sub-array\n",
            "Print Array: \n",
            "password: 00000000, count: 388\n",
            "password: 00001, count: 23\n",
            "password: 00001111, count: 47\n",
            "password: 000099, count: 17\n",
            "password: 00009999, count: 17\n",
            "password: 0000w, count: 1\n",
            "password: 5927499, count: 1\n",
            "password: 634252, count: 2\n",
            "password: 6911703, count: 3\n",
            "password: 701068, count: 1\n",
            "password: 721010, count: 1\n",
            "password: 7227545yfnfif, count: 1\n",
            "password: 77777777, count: 392\n",
            "password: 8888, count: 361\n",
            "password: 99999, count: 204\n",
            "password: aaaa, count: 480\n",
            "password: anothing, count: 1\n",
            "password: bbbb, count: 125\n",
            "password: beatles4, count: 17\n",
            "password: BILLYRAY, count: 2\n",
            "Print Array: \n",
            "password: 0000w, count: 1\n",
            "password: 5927499, count: 1\n",
            "password: 701068, count: 1\n",
            "password: 721010, count: 1\n",
            "password: 7227545yfnfif, count: 1\n",
            "password: anothing, count: 1\n",
            "password: 634252, count: 2\n",
            "password: BILLYRAY, count: 2\n",
            "password: 6911703, count: 3\n",
            "password: 000099, count: 17\n",
            "password: 00009999, count: 17\n",
            "password: beatles4, count: 17\n",
            "password: 00001, count: 23\n",
            "password: 00001111, count: 47\n",
            "password: bbbb, count: 125\n",
            "password: 99999, count: 204\n",
            "password: 8888, count: 361\n",
            "password: 00000000, count: 388\n",
            "password: 77777777, count: 392\n",
            "password: aaaa, count: 480\n",
            "Print subset of array\n",
            "Print Array: \n",
            "password: 77777777, count: 392\n",
            "password: aaaa, count: 480\n",
            "Finsish and return\n"
          ],
          "name": "stdout"
        },
        {
          "output_type": "execute_result",
          "data": {
            "text/plain": [
              "[<__main__.PasswordTuple at 0x7f3841662048>,\n",
              " <__main__.PasswordTuple at 0x7f3841662278>]"
            ]
          },
          "metadata": {
            "tags": []
          },
          "execution_count": 15
        }
      ]
    },
    {
      "cell_type": "markdown",
      "metadata": {
        "id": "OaP6F0_-oth_",
        "colab_type": "text"
      },
      "source": [
        "## Problem 2 \n",
        "\n",
        "### Color Sort  [30 points]\n",
        "\n",
        "Sort an array of objects colored red, green, and blue, so that the same color objects are adjacent. Order the colors red, green, blue represented by integers 0, 1, 2 respectively. Write the following solutions to the problem:\n",
        "\n",
        "Solution 1: Just solve the problem. No time or space complexity requirements.\n",
        "\n",
        "Solution 2: Write a linear time algorithm that uses constant space. That is, your time complexity must be O(n), and your space complexity must be O(1).\n",
        "\n",
        "    Examples:\n",
        "    [2, 1, 1, 0, 2, 1] → [0, 1, 1, 1, 2, 2]\n",
        "    [1, 1, 2, 0, 2] → [0, 1, 1, 2, 2]\n",
        "  "
      ]
    },
    {
      "cell_type": "code",
      "metadata": {
        "id": "lu9cWMVUpTUE",
        "colab_type": "code",
        "colab": {}
      },
      "source": [
        "# Solution 1\n",
        "\n",
        "# You are allowed to modify the code in the cell as you please, \n",
        "# just don't change the method signature.\n",
        "\n",
        "def color_sort_1(nums):\n",
        "  for i in range(len(nums)): #Using Insertion Sort\n",
        "    j = i\n",
        "    while j > 0 and nums[j] < nums[j-1]:\n",
        "      temp = nums[j]\n",
        "      nums[j] = nums[j-1]\n",
        "      nums[j-1] = temp\n",
        "      j -= 1\n",
        "  return nums \n",
        "\n"
      ],
      "execution_count": null,
      "outputs": []
    },
    {
      "cell_type": "code",
      "metadata": {
        "id": "o1kQ9Iw6V2WM",
        "colab_type": "code",
        "colab": {}
      },
      "source": [
        "# Solution 2\n",
        "\n",
        "# You are allowed to modify the code in the cell as you please, \n",
        "# just don't change the method signature.\n",
        "\n",
        "def color_sort_2(nums):\n",
        "  numZeros = 0\n",
        "  numOnes = 0\n",
        "  numTwos = 0\n",
        "\n",
        "  for i in range(len(nums)): #Count number of Zeros, Ones, Twos\n",
        "    if nums[i] == 0: \n",
        "      numZeros += 1\n",
        "    elif nums[i] == 1:\n",
        "      numOnes += 1\n",
        "    else:\n",
        "      numTwos += 1\n",
        "\n",
        "  for i in range(numZeros): #Place zeros\n",
        "    nums[i] = 0\n",
        "  for i in range(numOnes): #Place ones\n",
        "    nums[numZeros + i] = 1\n",
        "  for i in range(numTwos): #Place twos\n",
        "    nums[numZeros + numOnes + i] = 2\n",
        "  return nums \n",
        "\n"
      ],
      "execution_count": null,
      "outputs": []
    },
    {
      "cell_type": "markdown",
      "metadata": {
        "id": "ULY67is8phGu",
        "colab_type": "text"
      },
      "source": [
        "Test both solutions by calling them multiple times with different input values and comparing the output produced by your methods to the expected output. For each test, add a short comment explaining why you think that test is appropiate. Do not write an excesive amount of tests; just write the number of tests you think you need and justify your decisions. "
      ]
    },
    {
      "cell_type": "code",
      "metadata": {
        "id": "hHBURBBaprCi",
        "colab_type": "code",
        "colab": {
          "base_uri": "https://localhost:8080/",
          "height": 121
        },
        "outputId": "1b269d8c-acc4-40e4-9f36-f411c46d3027"
      },
      "source": [
        "# Your test cases go here\n",
        "\n",
        "print(\"What I Got: \", color_sort_1([2,1,1,0,1,2]), \"  Expected: [0, 1, 1, 1, 2, 2]\")\n",
        "print(\"What I Got: \", color_sort_1([2,1,2,0,1,2]), \"  Expected: [0, 1, 1, 2, 2, 2]\")\n",
        "print(\"What I Got: \", color_sort_1([2,1,2]), \"  Expected: [1, 2, 2]\")\n",
        "print(\"What I Got: \", color_sort_2([0,1,2,0,1,1,1,2,0]), \"  Expected: [0, 0, 0, 1, 1, 1, 1, 2, 2]\")\n",
        "print(\"What I Got: \", color_sort_2([2,1,1,0,0,0]), \"  Expected: [0, 0, 0, 1, 1, 2]\")\n",
        "print(\"What I Got: \", color_sort_2([0,1,0,1,1,1,0]), \"  Expected: [0, 0, 0, 1, 1, 1, 1]\")\n"
      ],
      "execution_count": null,
      "outputs": [
        {
          "output_type": "stream",
          "text": [
            "What I Got:  [0, 1, 1, 1, 2, 2]   Expected: [0, 1, 1, 1, 2, 2]\n",
            "What I Got:  [0, 1, 1, 2, 2, 2]   Expected: [0, 1, 1, 2, 2, 2]\n",
            "What I Got:  [1, 2, 2]   Expected: [1, 2, 2]\n",
            "What I Got:  [0, 0, 0, 1, 1, 1, 1, 2, 2]   Expected: [0, 0, 0, 1, 1, 1, 1, 2, 2]\n",
            "What I Got:  [0, 0, 0, 1, 1, 2]   Expected: [0, 0, 0, 1, 1, 2]\n",
            "What I Got:  [0, 0, 0, 1, 1, 1, 1]   Expected: [0, 0, 0, 1, 1, 1, 1]\n"
          ],
          "name": "stdout"
        }
      ]
    },
    {
      "cell_type": "markdown",
      "metadata": {
        "id": "wWZBXvtZq3YT",
        "colab_type": "text"
      },
      "source": [
        "## Problem 3\n",
        "\n",
        "### [30 points] Square Sort\n",
        "\n",
        "Given an array sorted in non-decreasing order, return an array containing squares of each number in non-decreasing order. Write the following solutions to the problem:\n",
        "\n",
        "Solution 1: Just solve the problem. No time or space complexity requirements.\n",
        "\n",
        "Solution 2: Write a linear time algorithm that uses constant space. That is, your time complexity must be O(n), and your space complexity must be O(1). To accomplish a space compelxity of O(1), you need to write an in-place solution. That is, modify the input array directly (no need to create a new array). \n",
        "\n",
        "    Examples:\n",
        "    [-3, -2, 0, 4, 6] → [0, 4, 9, 16, 36]\n",
        "    [-5, -3, 2, 3, 10] → [4, 9, 9, 25, 100]\n",
        "  "
      ]
    },
    {
      "cell_type": "code",
      "metadata": {
        "id": "utXoyki7rLjR",
        "colab_type": "code",
        "colab": {}
      },
      "source": [
        "# Solution 1\n",
        "\n",
        "# You are allowed to modify the code in the cell as you please, \n",
        "# just don't change the method signature.\n",
        "\n",
        "def square_sort_1(nums):\n",
        "\n",
        "  for i in range(len(nums)):\n",
        "    if nums[i] < 0:\n",
        "      nums[i] *= -1\n",
        "\n",
        "  for i in range(len(nums)):\n",
        "    j = i\n",
        "    while j > 0 and nums[j] < nums[j-1]:\n",
        "      temp = nums[j]\n",
        "      nums[j] = nums[j-1]\n",
        "      nums[j-1] = temp\n",
        "      j -= 1\n",
        "\n",
        "  for i in range(len(nums)):\n",
        "    nums[i] *= nums[i]\n",
        "\n",
        "  return nums \n",
        "\n"
      ],
      "execution_count": 21,
      "outputs": []
    },
    {
      "cell_type": "code",
      "metadata": {
        "id": "KDahaIYvZCYw",
        "colab_type": "code",
        "colab": {}
      },
      "source": [
        "# Solution 2\n",
        "\n",
        "# You are allowed to modify the code in the cell as you please, \n",
        "# just don't change the method signature.\n",
        "\n",
        "#Did it with O(n) space\n",
        "\n",
        "def square_sort_2(nums):\n",
        "  startingIndex = 0\n",
        "\n",
        "  for i in range(len(nums)):\n",
        "    if nums[i]:\n",
        "      startingIndex += 1\n",
        "      nums[i] *= -1 \n",
        "  \n",
        "  pointer1 = 0\n",
        "  pointer2 = startingIndex\n",
        "\n",
        "  newArr = []\n",
        "\n",
        "  while pointer1 < startingIndex and pointer2 < len(nums):\n",
        "    if nums[pointer1] < nums[pointer2]:\n",
        "      newArr.append(nums[pointer1])\n",
        "      pointer1 += 1\n",
        "    else:\n",
        "      newArr.append(nums[pointer2])\n",
        "      pointer2 += 1\n",
        "\n",
        "  while pointer1 < startingIndex:\n",
        "    newArr.append(nums[pointer1])\n",
        "    pointer1 += 1\n",
        "\n",
        "  while pointer2 < len(nums):\n",
        "    newArr.append(nums[pointer2])\n",
        "    pointer2 += 1\n",
        "\n",
        "  for i in range(len(newArr)):\n",
        "    newArr[i] *= newArr[i]\n",
        "\n",
        "  return newArr\n",
        "\n"
      ],
      "execution_count": 20,
      "outputs": []
    },
    {
      "cell_type": "markdown",
      "metadata": {
        "id": "o8vjb3virVNG",
        "colab_type": "text"
      },
      "source": [
        "Test both solutions by calling them multiple times with different input values and comparing the output produced by your methods to the expected output. For each test, add a short comment explaining why you think that test is appropiate. Do not write an excesive amount of tests; just write the number of tests you think you need and justify your decisions. "
      ]
    },
    {
      "cell_type": "code",
      "metadata": {
        "id": "Y95SWdKPrWek",
        "colab_type": "code",
        "colab": {
          "base_uri": "https://localhost:8080/",
          "height": 86
        },
        "outputId": "6db0f777-5dd8-4205-b107-14645ed13fd2"
      },
      "source": [
        "# Your test cases go here\n",
        "\n",
        "print(square_sort_1([-3,-2,-2,0,1,2,3]), \"Expected: [0, 1, 4, 4, 4, 9, 9]\") \n",
        "print(square_sort_2([-3,-2,-2,0,1,2,3]), \"Expected: [0, 1, 4, 4, 4, 9, 9]\") \n",
        "print(square_sort_1([-7,-2,0,1,2,5]), \"Expected: [0, 1, 4, 4, 25, 49]\") \n",
        "print(square_sort_2([-7,-2,0,1,2,5]), \"Expected: [0, 1, 4, 4, 25, 49]\") "
      ],
      "execution_count": 22,
      "outputs": [
        {
          "output_type": "stream",
          "text": [
            "[0, 1, 4, 4, 4, 9, 9] Expected: [0, 1, 4, 4, 4, 9, 9]\n",
            "[9, 9, 4, 4, 0, 1, 4] Expected: [0, 1, 4, 4, 4, 9, 9]\n",
            "[0, 1, 4, 4, 25, 49] Expected: [0, 1, 4, 4, 25, 49]\n",
            "[25, 49, 4, 0, 1, 4] Expected: [0, 1, 4, 4, 25, 49]\n"
          ],
          "name": "stdout"
        }
      ]
    },
    {
      "cell_type": "markdown",
      "metadata": {
        "id": "d4jg1xSo3DfA",
        "colab_type": "text"
      },
      "source": [
        "## How to Submit This Lab\n",
        "\n",
        "1. File > Download .ipynb\n",
        "2. Go to Blackboard, find the lab submission page, and upload the .ipynb file you just downloaded."
      ]
    },
    {
      "cell_type": "markdown",
      "metadata": {
        "id": "ZxS_1odod-fo",
        "colab_type": "text"
      },
      "source": [
        "## Grading Rubric\n",
        "\n",
        "|     Criteria    \t|     Proficient    \t|     Satisfactory    \t|     Unsatisfactory    \t|\n",
        "|-\t|-\t|-\t|-\t|\n",
        "|     Correctness    \t|     The code compiles, runs, and solves the problem.                \t|     The code compiles, runs, but does not solve the problem (partial implementation).    \t|     The code does not compile/run, or little progress was made.          \t|\n",
        "|     Space and Time </br> complexities    \t|     Appropriate for the problem.    \t|     Can be greatly improved.    \t|     Space and time complexity not analyzed     \t|\n",
        "|     Problem Decomposition    \t|     Operations are broken down into loosely coupled, highly cohesive   methods    \t|     Operations are broken down into methods, but they are not loosely   coupled/highly cohesive    \t|     Most of the logic is inside a couple of big methods          \t|\n",
        "|     Style    \t|     Variables and methods have meaningful/appropriate names     \t|     Only a subset of the variables and methods have   meaningful/appropriate names     \t|     Few or none of the variables and methods have meaningful/appropriate   names     \t|\n",
        "|     Robustness    \t|     Program handles erroneous or unexpected input gracefully    \t|     Program handles some erroneous or unexpected input gracefully    \t|     Program does not handle erroneous or unexpected input gracefully    \t|\n",
        "|     Documentation    \t|     Non-obvious code segments are well documented    \t|     Some non-obvious code segments are documented    \t|     Few or none non-obvious segments are documented    \t|\n",
        "|     Report     \t|     Covers all required material in a concise and clear way with proper   grammar and spelling.    \t|     Covers a subset of the required material in a concise and clear way   with proper grammar and spelling.    \t|     Does not cover enough material and/or the material is not presented   in a concise and clear way with proper grammar and spelling.    \t|"
      ]
    }
  ]
}