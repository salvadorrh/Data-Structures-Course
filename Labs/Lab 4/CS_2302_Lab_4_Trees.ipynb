{
  "nbformat": 4,
  "nbformat_minor": 0,
  "metadata": {
    "colab": {
      "name": "Copy of CS 2302 - Lab 4 - Trees",
      "provenance": [],
      "collapsed_sections": []
    },
    "kernelspec": {
      "name": "python3",
      "display_name": "Python 3"
    }
  },
  "cells": [
    {
      "cell_type": "markdown",
      "metadata": {
        "id": "MKsRDH5ZUdfasdv"
      },
      "source": [
        "## CS 2302 - Lab 4 - Trees\n",
        "\n",
        "\n",
        "\n"
      ]
    },
    {
      "cell_type": "markdown",
      "metadata": {
        "id": "Lzc5KPs59OyY"
      },
      "source": [
        "## **Before you start**\n",
        "\n",
        "Make a copy of this Colab by clicking on File > Save a Copy in Drive\n",
        "\n",
        "Name:  Salvador Robles Herrera\n",
        "\n",
        "Student ID: 80683116"
      ]
    },
    {
      "cell_type": "markdown",
      "metadata": {
        "id": "overview"
      },
      "source": [
        "## Overview\n",
        "\n",
        "In this lab, you will solve 4 tree problems. The first problem asks you to implement a self-balancing binary search tree. The last three problems are similar to the ones tech companies use during coding interviews. You will be required to used your tree implementation to test your solutions.\n",
        "\n",
        "\n"
      ]
    },
    {
      "cell_type": "markdown",
      "metadata": {
        "id": "6gKL1mrkyLux"
      },
      "source": [
        "### Grading\n",
        "As stated in the syllabus, your lab consists of two parts: the source code  and the report. This colab counts as your source code submission only. However, for your report submission, you  are more than welcome to extend your colab to include what is required for the report. Alternatively, you can use any other text editor to write your lab report (Google Docs, Word, etc.). I personally recommend to stick to Google Colab as you can write code to draw the required plots, which makes the whole process simpler. \n",
        "\n",
        "Each subsection in this colab is marked with point values, totaling 100 points.\n"
      ]
    },
    {
      "cell_type": "markdown",
      "metadata": {
        "id": "cBO-Xrldpe62"
      },
      "source": [
        "## Problem 1 \n",
        "\n",
        "### [10 points] Self-balancing binary search tree\n",
        "\n",
        "Implement a self-balancing binary search tree. You are free to select any type of tree from this list:\n",
        "- [AVL](https://en.wikipedia.org/wiki/AVL_tree)\n",
        "- [Red-Black](https://en.wikipedia.org/wiki/Red%E2%80%93black_tree)\n",
        "- [AA](https://en.wikipedia.org/wiki/AA_tree)\n",
        "- [Scapegoat](https://en.wikipedia.org/wiki/Scapegoat_tree)\n",
        "- [Splay](https://en.wikipedia.org/wiki/Splay_tree)\n",
        "- [Treap](https://en.wikipedia.org/wiki/Treap)\n",
        "\n",
        "You are free to look online at existing implementations to write your own, but if you do so, you MUST cite the source. "
      ]
    },
    {
      "cell_type": "code",
      "metadata": {
        "id": "RCJACl9m6KJw"
      },
      "source": [
        "# AVL BST\n",
        "# Source for help: https://github.com/Bibeknam/algorithmtutorprograms/blob/master/data-structures/avl-trees/avl_tree.py\n",
        "\n",
        "class Node:\n",
        "\tdef  __init__(self, data):\n",
        "\t\tself.data = data\n",
        "\t\tself.parent = None\n",
        "\t\tself.left = None\n",
        "\t\tself.right = None\n",
        "\t\tself.bf = 0\n",
        "\n",
        "class AVLTree:\n",
        "\n",
        "\tdef __init__(self):\n",
        "\t\tself.root = None\n",
        "\n",
        "\t# update the balance factor the node\n",
        "\tdef __updateBalance(self, node):\n",
        "\t\tif node.bf < -1 or node.bf > 1:\n",
        "\t\t\tself.__rebalance(node)\n",
        "\t\t\treturn;\n",
        "\n",
        "\t\tif node.parent != None:\n",
        "\t\t\tif node == node.parent.left:\n",
        "\t\t\t\tnode.parent.bf -= 1\n",
        "\n",
        "\t\t\tif node == node.parent.right:\n",
        "\t\t\t\tnode.parent.bf += 1\n",
        "\n",
        "\t\t\tif node.parent.bf != 0:\n",
        "\t\t\t\tself.__updateBalance(node.parent)\n",
        "\n",
        "\t # rebalance the tree\n",
        "\tdef __rebalance(self, node):\n",
        "\t\tif node.bf > 0:\n",
        "\t\t\tif node.right.bf < 0:\n",
        "\t\t\t\tself.rightRotate(node.right)\n",
        "\t\t\t\tself.leftRotate(node)\n",
        "\t\t\telse:\n",
        "\t\t\t\tself.leftRotate(node)\n",
        "\t\telif node.bf < 0:\n",
        "\t\t\tif node.left.bf > 0:\n",
        "\t\t\t\tself.leftRotate(node.left)\n",
        "\t\t\t\tself.rightRotate(node)\n",
        "\t\t\telse:\n",
        "\t\t\t\trightRotate(node)\n",
        "\n",
        "\t# find the node with the minimum key\n",
        "\tdef minimum(self, node):\n",
        "\t\twhile node.left != None:\n",
        "\t\t\tnode = node.left\n",
        "\t\treturn node\n",
        "\n",
        "\t# find the node with the maximum key\n",
        "\tdef maximum(self, node):\n",
        "\t\twhile node.right != None:\n",
        "\t\t\tnode = node.right\n",
        "\t\treturn node\n",
        "\n",
        "\t# find the successor of a given node\n",
        "\tdef successor(self, x):\n",
        "\t\t# if the right subtree is not null,\n",
        "\t\t# the successor is the leftmost node in the\n",
        "\t\t# right subtree\n",
        "\t\tif x.right != None:\n",
        "\t\t\treturn self.minimum(x.right)\n",
        "\n",
        "\t\t# else it is the lowest ancestor of x whose\n",
        "\t\t# left child is also an ancestor of x.\n",
        "\t\ty = x.parent\n",
        "\t\twhile y != None and x == y.right:\n",
        "\t\t\tx = y\n",
        "\t\t\ty = y.parent\n",
        "\t\treturn y\n",
        "\n",
        "\t# find the predecessor of a given node\n",
        "\tdef predecessor(self, x):\n",
        "\t\t# if the left subtree is not null,\n",
        "\t\t# the predecessor is the rightmost node in the \n",
        "\t\t# left subtree\n",
        "\t\tif x.left != None:\n",
        "\t\t\treturn self.maximum(x.left)\n",
        "\n",
        "\t\ty = x.parent\n",
        "\t\twhile y != None and x == y.left:\n",
        "\t\t\tx = y\n",
        "\t\t\ty = y.parent\n",
        "\t\treturn y\n",
        "\n",
        "\t# rotate left at node x\n",
        "\tdef leftRotate(self, x):\n",
        "\t\ty = x.right\n",
        "\t\tx.right = y.left\n",
        "\t\tif y.left != None:\n",
        "\t\t\ty.left.parent = x\n",
        "\n",
        "\t\ty.parent = x.parent;\n",
        "\t\tif x.parent == None:\n",
        "\t\t\tself.root = y\n",
        "\t\telif x == x.parent.left:\n",
        "\t\t\tx.parent.left = y\n",
        "\t\telse:\n",
        "\t\t\tx.parent.right = y\n",
        "\t\ty.left = x\n",
        "\t\tx.parent = y\n",
        "\n",
        "\t\t# update the balance factor\n",
        "\t\tx.bf = x.bf - 1 - max(0, y.bf)\n",
        "\t\ty.bf = y.bf - 1 + min(0, x.bf)\n",
        "\n",
        "\t# rotate right at node x\n",
        "\tdef rightRotate(self, x):\n",
        "\t\ty = x.left\n",
        "\t\tx.left = y.right;\n",
        "\t\tif y.right != None:\n",
        "\t\t\ty.right.parent = x\n",
        "\t\t\n",
        "\t\ty.parent = x.parent;\n",
        "\t\tif x.parent == None:\n",
        "\t\t\tself.root = y\n",
        "\t\telif x == x.parent.right:\n",
        "\t\t\tx.parent.right = y\n",
        "\t\telse:\n",
        "\t\t\tx.parent.left = y\n",
        "\t\t\n",
        "\t\ty.right = x\n",
        "\t\tx.parent = y\n",
        "\n",
        "\t\t# update the balance factor\n",
        "\t\tx.bf = x.bf + 1 - min(0, y.bf)\n",
        "\t\ty.bf = y.bf + 1 + max(0, x.bf)\n",
        "\n",
        "\t# insert the key to the tree in its appropriate position\n",
        "\tdef insert(self, key):\n",
        "\t\t# PART 1: Ordinary BST insert\n",
        "\t\tnode =  Node(key)\n",
        "\t\ty = None\n",
        "\t\tx = self.root\n",
        "\n",
        "\t\twhile x != None:\n",
        "\t\t\ty = x\n",
        "\t\t\tif node.data < x.data:\n",
        "\t\t\t\tx = x.left\n",
        "\t\t\telse:\n",
        "\t\t\t\tx = x.right\n",
        "\n",
        "\t\t# y is parent of x\n",
        "\t\tnode.parent = y\n",
        "\t\tif y == None:\n",
        "\t\t\tself.root = node\n",
        "\t\telif node.data < y.data:\n",
        "\t\t\ty.left = node\n",
        "\t\telse:\n",
        "\t\t\ty.right = node\n",
        "\n",
        "\t\t# PART 2: re-balance the node if necessary\n",
        "\t\tself.__updateBalance(node)\n",
        "\n",
        "\n",
        "\t# delete the node from the tree\n",
        "\tdef deleteNode(self, data):\n",
        "\t\treturn self.__deleteNodeHelper(self.root, data)\n"
      ],
      "execution_count": 165,
      "outputs": []
    },
    {
      "cell_type": "markdown",
      "metadata": {
        "id": "OaP6F0_-oth_"
      },
      "source": [
        "## Problem 2 \n",
        "\n",
        "### [30 points] Range Sum\n",
        "\n",
        "Given the root node of a binary search tree (duplicates allowed), return the sum of values of all nodes with value between *min_val* and *max_val* (inclusive). \n",
        "```\t\n",
        "Examples:\n",
        "\t\n",
        "       7 \n",
        "     /    \\\n",
        "    3      10      \n",
        "  /   \\   /   \\\n",
        "-1    5   9    12\n",
        "\n",
        "min_val = 2, max_val = 10  →  3 + 5 + 7 + 9 + 10 = 34\n",
        "min_val = 3, max_val = 8  →  3 + 5 + 7 = 15\n",
        "min_val = 10, max_val = 20  →  10 + 12 = 22\n",
        "min_val = 20, max_val = 30  →  0\n",
        "```"
      ]
    },
    {
      "cell_type": "code",
      "metadata": {
        "id": "lu9cWMVUpTUE"
      },
      "source": [
        "# Solution \n",
        "\n",
        "# You are allowed to modify the code in the cell as you please, \n",
        "# just don't change the method signature.\n",
        "\n",
        "def range_sum(root, min_val, max_val):\n",
        "  if root is None:\n",
        "    return 0\n",
        "  return range_helper(root, min_val, max_val)\n",
        "\n",
        "def range_helper(node, min_val, max_val):\n",
        "  if node is None:\n",
        "    return 0\n",
        "  sum = 0\n",
        "\n",
        "  if (min_val <= node.data <= max_val):\n",
        "    sum += node.data\n",
        "  \n",
        "  if (node.data >= min_val): #not make unnessary recursive calls to the left\n",
        "    sum += range_helper(node.left, min_val, max_val) #left sum\n",
        "\n",
        "  if (node.data <= max_val): #not make unnessary recursive calls to the right\n",
        "    sum += range_helper(node.right, min_val, max_val) #right sum\n",
        "  \n",
        "  return sum"
      ],
      "execution_count": 166,
      "outputs": []
    },
    {
      "cell_type": "markdown",
      "metadata": {
        "id": "ULY67is8phGu"
      },
      "source": [
        "Test your solution by calling it multiple times with different input values and comparing the output produced by your method to the expected output. For each test, add a short comment explaining why you think that test is appropiate. Do not write an excesive amount of tests; just write the number of tests you think you need and justify your decisions. To create your input trees, you can 1) use the Tree implementation you wrote in Problem 1, or 2) *manually* build them by directly instantiating nodes and setting their left and right attributes to connect them."
      ]
    },
    {
      "cell_type": "code",
      "metadata": {
        "id": "hHBURBBaprCi",
        "outputId": "4363ec6b-a8fb-4384-a4cc-ecbbd66fe5f6",
        "colab": {
          "base_uri": "https://localhost:8080/",
          "height": 69
        }
      },
      "source": [
        "# Your test cases go here\n",
        "bst = AVLTree()\n",
        "bst.insert(8)\n",
        "bst.insert(18)\n",
        "bst.insert(5)\n",
        "bst.insert(15)\n",
        "bst.insert(17)\n",
        "bst.insert(40)\n",
        "bst.insert(80)\n",
        "\n",
        "\n",
        "#Test case #1: Simple case to just test funcitonality of the method\n",
        "print(\"What I got: \", range_sum(bst.root, 16, 90), \"Expected: 155\")\n",
        "\n",
        "#Test case #2: Just one element in the range\n",
        "print(\"What I got: \", range_sum(bst.root, 7, 8), \"Expected: 8\")\n",
        "\n",
        "#Test case #2: Where there are no elements that satisfy the range\n",
        "print(\"What I got: \", range_sum(bst.root, 6, 7), \"Expected: 0\")"
      ],
      "execution_count": 167,
      "outputs": [
        {
          "output_type": "stream",
          "text": [
            "What I got:  155 Expected: 155\n",
            "What I got:  8 Expected: 8\n",
            "What I got:  0 Expected: 0\n"
          ],
          "name": "stdout"
        }
      ]
    },
    {
      "cell_type": "markdown",
      "metadata": {
        "id": "wWZBXvtZq3YT"
      },
      "source": [
        "## Problem 3\n",
        "\n",
        "### [30 points] Univalued Tree\n",
        "\n",
        "A binary tree is univalued if and only if every node in the tree contains the same value. Write a function that receives the root of a binary tree as input and determines if the given tree is univalued. Feel free to write a helper (recursive) method.\n",
        "\n",
        "```\n",
        "Examples:\n",
        "\t\t\n",
        "       7 \n",
        "     /    \\\n",
        "   3        10        →  False\n",
        " /   \\     /   \\\n",
        "-1    5   9    12\n",
        "\n",
        "       5 \n",
        "     /   \\\n",
        "    5     5      \t →  True\n",
        "\n",
        "      7 \n",
        "    /    \\\n",
        "  7       7      \t →  False\n",
        " /  \\    / \n",
        "7   7   8    \n",
        "\n",
        "       3 \n",
        "     /    \\\n",
        "    3      3          →  true\n",
        "         /   \\\n",
        "         3    3\n",
        "\n",
        "```\n"
      ]
    },
    {
      "cell_type": "code",
      "metadata": {
        "id": "utXoyki7rLjR"
      },
      "source": [
        "# Solution\n",
        "\n",
        "# You are allowed to modify the code in the cell as you please, \n",
        "# just don't change the method signature.\n",
        "\n",
        "def is_univalued(root):\n",
        "  print(\"METHOD\")\n",
        "  if root is None:\n",
        "    return False\n",
        "  return uni_recursive(root, root.data)\n",
        "\n",
        "def uni_recursive(node, val):\n",
        "  if node is None:\n",
        "    return True\n",
        "  if node.data != val:\n",
        "    return False\n",
        "\n",
        "  a = uni_recursive(node.left, val)\n",
        "  b = uni_recursive(node.right, val)\n",
        "  \n",
        "  return a and b"
      ],
      "execution_count": 168,
      "outputs": []
    },
    {
      "cell_type": "markdown",
      "metadata": {
        "id": "o8vjb3virVNG"
      },
      "source": [
        "Test your solution by calling it multiple times with different input values and comparing the output produced by your method to the expected output. For each test, add a short comment explaining why you think that test is appropiate. Do not write an excesive amount of tests; just write the number of tests you think you need and justify your decisions. To create your input trees, you can *manually* build them by directly instantiating nodes and setting their left and right attributes to connect them."
      ]
    },
    {
      "cell_type": "code",
      "metadata": {
        "id": "Y95SWdKPrWek",
        "outputId": "146d7f9e-59c0-4795-9dcc-bb033502f568",
        "colab": {
          "base_uri": "https://localhost:8080/",
          "height": 86
        }
      },
      "source": [
        "# Your test cases go here\n",
        "\n",
        "bst2 = AVLTree()\n",
        "bst2.insert(8)\n",
        "bst2.insert(8)\n",
        "bst2.insert(8)\n",
        "bst2.insert(8)\n",
        "\n",
        "#Test case #1: Simple case to just test funcitonality of the method when the expected value is True\n",
        "print(\"What I got: \", is_univalued(bst2.root), \" Expected: True\")\n",
        "\n",
        "bst2.insert(9)\n",
        "\n",
        "#Test case #2: Test when there is at least one element different from the rest\n",
        "print(\"What I got: \", is_univalued(bst2.root), \" Expected: False\")"
      ],
      "execution_count": 169,
      "outputs": [
        {
          "output_type": "stream",
          "text": [
            "METHOD\n",
            "What I got:  True  Expected: True\n",
            "METHOD\n",
            "What I got:  False  Expected: False\n"
          ],
          "name": "stdout"
        }
      ]
    },
    {
      "cell_type": "markdown",
      "metadata": {
        "id": "3fvX4LUHTREQ"
      },
      "source": [
        "## Problem 4\n",
        "\n",
        "### [30 points] Average of Levels\n",
        "\n",
        "Given the root of a binary tree, return the average value of the nodes at each level.  Feel free to write a helper (recursive) method.\n",
        "\n",
        "```\n",
        "Example:\n",
        "Input:\n",
        "    3\n",
        "   /  \\\n",
        "  9  20\n",
        "    /  \\\n",
        "   15   7\n",
        "Output: [3, 14.5, 11]\n",
        "```"
      ]
    },
    {
      "cell_type": "code",
      "metadata": {
        "id": "6AJQPbcOTQRP"
      },
      "source": [
        "# Solution \n",
        "\n",
        "# You are allowed to modify the code in the cell as you please, \n",
        "# just don't change the method signature.\n",
        "\n",
        "def average_of_levels(root):\n",
        "  if root is None:\n",
        "    return []\n",
        "\n",
        "  num_elements = []\n",
        "  sum_level = []\n",
        "  levels = []\n",
        "\n",
        "  recursive_average(root, num_elements, sum_level, levels, 0) #The 0 represents the level at where the node is \n",
        "\n",
        "  for i in range(len(sum_level)):\n",
        "    sum_level[i] /= num_elements[i]\n",
        "\n",
        "  return sum_level \n",
        "\n",
        "def recursive_average(node, num_elements, sum_level, levels, level):\n",
        "  if node is not None:\n",
        "    if level not in levels:\n",
        "      levels.append(level)\n",
        "      sum_level.append(0)\n",
        "      num_elements.append(0)\n",
        "\n",
        "    num_elements[level] += 1\n",
        "    sum_level[level] += node.data\n",
        "\n",
        "    recursive_average(node.left, num_elements, sum_level, levels, level+1)\n",
        "    recursive_average(node.right, num_elements, sum_level, levels, level+1)\n",
        "    \n"
      ],
      "execution_count": 170,
      "outputs": []
    },
    {
      "cell_type": "markdown",
      "metadata": {
        "id": "HtDmZt4WV8Ch"
      },
      "source": [
        "Test your solution by calling it multiple times with different input values and comparing the output produced by your method to the expected output. For each test, add a short comment explaining why you think that test is appropiate. Do not write an excesive amount of tests; just write the number of tests you think you need and justify your decisions. To create your input trees, you can 1) use the Tree implementation you wrote in Problem 1, or 2) *manually* build them by directly instantiating nodes and setting their left and right attributes to connect them."
      ]
    },
    {
      "cell_type": "code",
      "metadata": {
        "id": "EeQMnAaOV-b9",
        "outputId": "5929b037-58b7-4650-f783-d3b59e7a05ce",
        "colab": {
          "base_uri": "https://localhost:8080/",
          "height": 51
        }
      },
      "source": [
        "# Your test cases go here\n",
        "\n",
        "bst3 = AVLTree()\n",
        "bst3.insert(8)\n",
        "bst3.insert(7)\n",
        "bst3.insert(9)\n",
        "bst3.insert(8)\n",
        "\n",
        "#TEST case 1\n",
        "print(\"What I got: \", average_of_levels(bst3.root), \"Expected: [8.0, 8.0, 8.0]\")\n",
        "\n",
        "bst4 = AVLTree()\n",
        "bst4.insert(8)\n",
        "bst4.insert(18)\n",
        "bst4.insert(5)\n",
        "bst4.insert(15)\n",
        "\n",
        "#TEST case 2\n",
        "print(\"What I got: \", average_of_levels(bst4.root), \"Expected: [8.0, 11.5, 15.0]\")"
      ],
      "execution_count": 171,
      "outputs": [
        {
          "output_type": "stream",
          "text": [
            "What I got:  [8.0, 8.0, 8.0] Expected: [8.0, 8.0, 8.0]\n",
            "What I got:  [8.0, 11.5, 15.0] Expected: [8.0, 11.5, 15.0]\n"
          ],
          "name": "stdout"
        }
      ]
    },
    {
      "cell_type": "markdown",
      "metadata": {
        "id": "_njBEETJ9bmT"
      },
      "source": [
        "## How to Submit This Lab\n",
        "\n",
        "1. File > Download .ipynb\n",
        "2. Go to Blackboard, find the lab submission page, and upload the .ipynb file you just downloaded."
      ]
    },
    {
      "cell_type": "markdown",
      "metadata": {
        "id": "ZxS_1odod-fo"
      },
      "source": [
        "## Grading Rubric\n",
        "\n",
        "|     Criteria    \t|     Proficient    \t|     Satisfactory    \t|     Unsatisfactory    \t|\n",
        "|-\t|-\t|-\t|-\t|\n",
        "|     Correctness    \t|     The code compiles, runs, and solves the problem.                \t|     The code compiles, runs, but does not solve the problem (partial implementation).    \t|     The code does not compile/run, or little progress was made.          \t|\n",
        "|     Space and Time </br> complexities    \t|     Appropriate for the problem.    \t|     Can be greatly improved.    \t|     Space and time complexity not analyzed     \t|\n",
        "|     Problem Decomposition    \t|     Operations are broken down into loosely coupled, highly cohesive   methods    \t|     Operations are broken down into methods, but they are not loosely   coupled/highly cohesive    \t|     Most of the logic is inside a couple of big methods          \t|\n",
        "|     Style    \t|     Variables and methods have meaningful/appropriate names     \t|     Only a subset of the variables and methods have   meaningful/appropriate names     \t|     Few or none of the variables and methods have meaningful/appropriate   names     \t|\n",
        "|     Robustness    \t|     Program handles erroneous or unexpected input gracefully    \t|     Program handles some erroneous or unexpected input gracefully    \t|     Program does not handle erroneous or unexpected input gracefully    \t|\n",
        "|     Documentation    \t|     Non-obvious code segments are well documented    \t|     Some non-obvious code segments are documented    \t|     Few or none non-obvious segments are documented    \t|\n",
        "|     Report     \t|     Covers all required material in a concise and clear way with proper   grammar and spelling.    \t|     Covers a subset of the required material in a concise and clear way   with proper grammar and spelling.    \t|     Does not cover enough material and/or the material is not presented   in a concise and clear way with proper grammar and spelling.    \t|"
      ]
    }
  ]
}