{
  "nbformat": 4,
  "nbformat_minor": 0,
  "metadata": {
    "colab": {
      "name": "Copy of CS2302 - Quiz 1",
      "provenance": [],
      "collapsed_sections": []
    },
    "kernelspec": {
      "name": "python3",
      "display_name": "Python 3"
    }
  },
  "cells": [
    {
      "cell_type": "markdown",
      "metadata": {
        "id": "1jWf2BoactFp",
        "colab_type": "text"
      },
      "source": [
        "# CS 2302 - Quiz 1 - Recursion"
      ]
    },
    {
      "cell_type": "markdown",
      "metadata": {
        "id": "aN7KlrADgPca",
        "colab_type": "text"
      },
      "source": [
        "## Instructions\n",
        "\n",
        "**Make your own copy of the notebook before working on it!**\n",
        "\n",
        "- File > Save a Copy in Drive\n",
        "\n",
        "    \n",
        "**How to Submit This Quiz**\n",
        "- File > Download .ipynb\n",
        "- Go to Blackboard, find the submission page, and upload the .ipynb file you just downloaded."
      ]
    },
    {
      "cell_type": "markdown",
      "metadata": {
        "id": "A8mYdvyAr0Yp",
        "colab_type": "text"
      },
      "source": [
        "## Teammates\n",
        "\n",
        "-\n",
        "-\n",
        "-\n"
      ]
    },
    {
      "cell_type": "markdown",
      "metadata": {
        "id": "0jTMFqKtcypI",
        "colab_type": "text"
      },
      "source": [
        "## Problem 1\n",
        "\n",
        "### [50 points] Permutations\n",
        "\n",
        "Given an integer array *nums* (no duplicates), return all possible permutations of *nums*. \n",
        "\n",
        "\tExample: \n",
        "\t\tnums = [1, 2, 3]  → [\n",
        "\t\t\t\t\t[1, 2, 3],\n",
        "\t\t\t\t\t[1, 3, 2],\n",
        "\t\t\t\t\t[2, 1, 3],\n",
        "\t\t\t\t\t[2, 3, 1],\n",
        "\t\t\t\t\t[3, 1, 2],\n",
        "\t\t\t\t\t[3, 2, 1],\n",
        "        ]\n"
      ]
    },
    {
      "cell_type": "code",
      "metadata": {
        "id": "4bAVXxhZeCzf",
        "colab_type": "code",
        "colab": {}
      },
      "source": [
        "# You are allowed to modify the code in the cell as you please, \n",
        "# just don't change the method signature.\n",
        "\n",
        "# Feel free to write a helper (recursive) method. That is, it's OK if get_perms\n",
        "# is not a recursive method as long as it calls another method that IS recursive\n",
        "\n",
        "def get_perms(nums):\n",
        "  arr = []\n",
        "  print(\"Going to recursive function\")\n",
        "  recursive([], nums, arr)\n",
        "  return arr\n",
        "\n",
        "def recursive(permutated, toPermutate,arr):\n",
        "  print(\"Permutated \", permutated)\n",
        "  print(\"To permutate \", toPermutate)\n",
        "  if (len(toPermutate) == 0):\n",
        "    print(\"Append\")\n",
        "    arr.append(permutated)\n",
        "  else :\n",
        "    print(\"Else...\")\n",
        "    for j in range(len(toPermutate)):\n",
        "      print(\"j :\", j)\n",
        "      nextLetter = toPermutate[j]\n",
        "      copy_toPermutate = toPermutate[:]\n",
        "      print(copy_toPermutate)\n",
        "      copy_toPermutate.pop(j)\n",
        "      copy_permutated = permutated[:]\n",
        "      copy_permutated.append(nextLetter)\n",
        "      recursive(copy_permutated, copy_toPermutate,arr)"
      ],
      "execution_count": 27,
      "outputs": []
    },
    {
      "cell_type": "markdown",
      "metadata": {
        "id": "BJ3m1kX_eSIv",
        "colab_type": "text"
      },
      "source": [
        "Test your implementation by calling it multiple times with different input values and comparing the output produced by your method and the expected output. For each test, add a short comment explaining why you think that test is appropiate. Do not write an excesive amount of tests; just write the number of tests you think you need and justify your decisions. "
      ]
    },
    {
      "cell_type": "code",
      "metadata": {
        "id": "g-mFoNrSeVbk",
        "colab_type": "code",
        "colab": {
          "base_uri": "https://localhost:8080/",
          "height": 1000
        },
        "outputId": "19de608f-f231-4f35-b6f8-3ffbd4ad267f"
      },
      "source": [
        "# Your test cases go here\n",
        "get_perms([1,2,3])\n"
      ],
      "execution_count": 28,
      "outputs": [
        {
          "output_type": "stream",
          "text": [
            "Going to recursive function\n",
            "Permutated  []\n",
            "To permutate  [1, 2, 3]\n",
            "Else...\n",
            "j : 0\n",
            "[1, 2, 3]\n",
            "Permutated  [1]\n",
            "To permutate  [2, 3]\n",
            "Else...\n",
            "j : 0\n",
            "[2, 3]\n",
            "Permutated  [1, 2]\n",
            "To permutate  [3]\n",
            "Else...\n",
            "j : 0\n",
            "[3]\n",
            "Permutated  [1, 2, 3]\n",
            "To permutate  []\n",
            "Append\n",
            "j : 1\n",
            "[2, 3]\n",
            "Permutated  [1, 3]\n",
            "To permutate  [2]\n",
            "Else...\n",
            "j : 0\n",
            "[2]\n",
            "Permutated  [1, 3, 2]\n",
            "To permutate  []\n",
            "Append\n",
            "j : 1\n",
            "[1, 2, 3]\n",
            "Permutated  [2]\n",
            "To permutate  [1, 3]\n",
            "Else...\n",
            "j : 0\n",
            "[1, 3]\n",
            "Permutated  [2, 1]\n",
            "To permutate  [3]\n",
            "Else...\n",
            "j : 0\n",
            "[3]\n",
            "Permutated  [2, 1, 3]\n",
            "To permutate  []\n",
            "Append\n",
            "j : 1\n",
            "[1, 3]\n",
            "Permutated  [2, 3]\n",
            "To permutate  [1]\n",
            "Else...\n",
            "j : 0\n",
            "[1]\n",
            "Permutated  [2, 3, 1]\n",
            "To permutate  []\n",
            "Append\n",
            "j : 2\n",
            "[1, 2, 3]\n",
            "Permutated  [3]\n",
            "To permutate  [1, 2]\n",
            "Else...\n",
            "j : 0\n",
            "[1, 2]\n",
            "Permutated  [3, 1]\n",
            "To permutate  [2]\n",
            "Else...\n",
            "j : 0\n",
            "[2]\n",
            "Permutated  [3, 1, 2]\n",
            "To permutate  []\n",
            "Append\n",
            "j : 1\n",
            "[1, 2]\n",
            "Permutated  [3, 2]\n",
            "To permutate  [1]\n",
            "Else...\n",
            "j : 0\n",
            "[1]\n",
            "Permutated  [3, 2, 1]\n",
            "To permutate  []\n",
            "Append\n",
            "Arr:  [[1, 2, 3], [1, 3, 2], [2, 1, 3], [2, 3, 1], [3, 1, 2], [3, 2, 1]]\n"
          ],
          "name": "stdout"
        },
        {
          "output_type": "execute_result",
          "data": {
            "text/plain": [
              "[[1, 2, 3], [1, 3, 2], [2, 1, 3], [2, 3, 1], [3, 1, 2], [3, 2, 1]]"
            ]
          },
          "metadata": {
            "tags": []
          },
          "execution_count": 28
        }
      ]
    },
    {
      "cell_type": "markdown",
      "metadata": {
        "id": "bh0QSTylfoBA",
        "colab_type": "text"
      },
      "source": [
        "## Problem 2\n",
        "\n",
        "### [50 points] Subsets\n",
        "\n",
        "Given an integer array *nums* (no duplicates), return all possible subsets of *nums*. Your output must not contain duplicate subsets.\n",
        "\n",
        "    Example:\n",
        "    nums = [1,2,3] → \n",
        "           [\n",
        "            [3],\n",
        "            [1],\n",
        "            [2],\n",
        "            [1,2,3],\n",
        "            [1,3],\n",
        "            [2,3],\n",
        "            [1,2],\n",
        "            []\n",
        "          ]\n"
      ]
    },
    {
      "cell_type": "code",
      "metadata": {
        "id": "1O855Es3gAts",
        "colab_type": "code",
        "colab": {}
      },
      "source": [
        "# You are allowed to modify the code in the cell as you please, \n",
        "# just don't change the method signature.\n",
        "\n",
        "# Feel free to write a helper (recursive) method. That is, it's OK if get_subsets\n",
        "# is not a recursive method as long as it calls another method that IS recursive\n",
        "\n",
        "def get_subsets(nums):\n",
        "  subsets = []\n",
        "  arr = []\n",
        "  arrNums = [] #0s or 1s\n",
        "  index = 0\n",
        "  for i in range(len(nums)):\n",
        "    arrNums.append(0) # fill with 0s\n",
        "  print(arrNums)\n",
        "  recursive(nums, arrNums, arr, index)\n",
        "  return arr\n",
        "\n",
        "#I'll try to spend more time on this \n",
        "\n",
        "def recursive(nums, arrNums, arr, index, subsets):\n",
        "  if (index > len(arrNums)):\n",
        "    arr.append(subsets)\n",
        "  elif arrNums[index] == 0 :\n",
        "    recursive(nums, arrNums, arr, index+1, subsets)\n",
        "  elif arrNums[index] == 1 :\n",
        "    subsets.append(nums[index])\n",
        "    recursive(nums, arrNums, arr, index + 1, subsets)"
      ],
      "execution_count": 46,
      "outputs": []
    },
    {
      "cell_type": "markdown",
      "metadata": {
        "id": "GBiXXN1JgAIh",
        "colab_type": "text"
      },
      "source": [
        "Test your implementation by calling it multiple times with different input values and comparing the output produced by your method and the expected output. For each test, add a short comment explaining why you think that test is appropiate. Do not write an excesive amount of tests; just write the number of tests you think you need and justify your decisions. "
      ]
    },
    {
      "cell_type": "code",
      "metadata": {
        "id": "9Qy1hyr6gLbm",
        "colab_type": "code",
        "colab": {
          "base_uri": "https://localhost:8080/",
          "height": 51
        },
        "outputId": "48debe6e-0b38-45b8-8468-0778cd6c429f"
      },
      "source": [
        "# Your test cases go here\n",
        "get_subsets([1,2,3])"
      ],
      "execution_count": 44,
      "outputs": [
        {
          "output_type": "stream",
          "text": [
            "False\n",
            "[0, 0, 0]\n"
          ],
          "name": "stdout"
        }
      ]
    }
  ]
}