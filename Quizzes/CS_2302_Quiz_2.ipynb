{
  "nbformat": 4,
  "nbformat_minor": 0,
  "metadata": {
    "colab": {
      "name": "Copy of CS 2302 - Quiz 2",
      "provenance": [],
      "collapsed_sections": []
    },
    "kernelspec": {
      "name": "python3",
      "display_name": "Python 3"
    }
  },
  "cells": [
    {
      "cell_type": "markdown",
      "metadata": {
        "id": "1jWf2BoactFp",
        "colab_type": "text"
      },
      "source": [
        "# CS 2302 - Quiz 2 - Activation Records + *Recursion*"
      ]
    },
    {
      "cell_type": "markdown",
      "metadata": {
        "id": "aN7KlrADgPca",
        "colab_type": "text"
      },
      "source": [
        "## Instructions\n",
        "\n",
        "**Make your own copy of the notebook before working on it!**\n",
        "\n",
        "- File > Save a Copy in Drive\n",
        "\n",
        "    \n",
        "**How to Submit This Quiz**\n",
        "- File > Download .ipynb\n",
        "- Go to Blackboard, find the submission page, and upload the .ipynb file you just downloaded."
      ]
    },
    {
      "cell_type": "markdown",
      "metadata": {
        "id": "A8mYdvyAr0Yp",
        "colab_type": "text"
      },
      "source": [
        "## Name: Salvador Robles Herrera\n",
        "\n",
        "## Student ID: 80683116\n",
        "\n",
        "## Teammates: \n",
        "\n",
        "-\n",
        "\n",
        "-\n",
        "\n",
        "-\n"
      ]
    },
    {
      "cell_type": "markdown",
      "metadata": {
        "id": "0jTMFqKtcypI",
        "colab_type": "text"
      },
      "source": [
        "## Problem 1 [30 points]\n",
        "\n",
        "Trace the execution of the following code cell using activation records. Every time you create an activation record, assign it an ID starting from 0.\n",
        "\n",
        "\t\tdef p1(n):  #0\n",
        "\t\t\tif n > 0:   #1\n",
        "\t\t\t\t\tp2 (n - 1)   #2\n",
        "\t\t\tprint(\"p1, n = \", n )    #3\n",
        "\n",
        "\t\tdef p2(n):   #4\n",
        "\t\t\tif n > 0:    #5\n",
        "\t\t\t\t\tp2 (n // 2)   #6\n",
        "\t\t\t\t\tp1 (n - 1)   #7\n",
        "\t\t\tprint(\"p2, n = \", n )   #8\n",
        "\n",
        "\t\tp1(2)     #8"
      ]
    },
    {
      "cell_type": "markdown",
      "metadata": {
        "id": "BJ3m1kX_eSIv",
        "colab_type": "text"
      },
      "source": [
        "a) How many activation records did you create?"
      ]
    },
    {
      "cell_type": "code",
      "metadata": {
        "id": "g-mFoNrSeVbk",
        "colab_type": "code",
        "colab": {}
      },
      "source": [
        "def get_prob1_a_ans():\n",
        "\n",
        "  return 4  # Return the number of activation records\n"
      ],
      "execution_count": 2,
      "outputs": []
    },
    {
      "cell_type": "markdown",
      "metadata": {
        "id": "hSwkqA9U8dpl",
        "colab_type": "text"
      },
      "source": [
        "b) What is the value of n in activation record #2? Activation record #0 is the one you created for p1(2)."
      ]
    },
    {
      "cell_type": "code",
      "metadata": {
        "id": "1O7B5G3l8sgG",
        "colab_type": "code",
        "colab": {}
      },
      "source": [
        "def get_prob1_b_ans():\n",
        "\n",
        "  return 0  # Return the value of n\n"
      ],
      "execution_count": null,
      "outputs": []
    },
    {
      "cell_type": "markdown",
      "metadata": {
        "id": "rmmmYSlr8zBR",
        "colab_type": "text"
      },
      "source": [
        "c) What is the value of n in activation record #1? Activation record #0 is the one you created for p1(2)."
      ]
    },
    {
      "cell_type": "code",
      "metadata": {
        "id": "P1yAPsD288V9",
        "colab_type": "code",
        "colab": {}
      },
      "source": [
        "def get_prob1_c_ans():\n",
        "\n",
        "  return 1  # Return the value of n\n"
      ],
      "execution_count": null,
      "outputs": []
    },
    {
      "cell_type": "markdown",
      "metadata": {
        "id": "_fPkf0Mc9hA9",
        "colab_type": "text"
      },
      "source": [
        "d) What is the value of n in activation record #0? Activation record #0 is the one you created for p1(2).\n"
      ]
    },
    {
      "cell_type": "code",
      "metadata": {
        "id": "sJuuQBPd9juw",
        "colab_type": "code",
        "colab": {}
      },
      "source": [
        "def get_prob1_d_ans():\n",
        "\n",
        "  return 2  # Return the value of n\n"
      ],
      "execution_count": null,
      "outputs": []
    },
    {
      "cell_type": "markdown",
      "metadata": {
        "id": "qRQRo5rh967L",
        "colab_type": "text"
      },
      "source": [
        "e) What is the FIRST line printed on the console?\n",
        "\n",
        "| Option 0 \t| Option 1 \t| Option 2 \t| Option 3 \t| Option 4 \t| Option 5 \t|\n",
        "|-\t|-\t|-\t|-\t|-\t|-\t|\n",
        "| p1, n = 0 \t| p2, n = 1 \t| p1, n = -1 \t| p1, n = 2 \t| p2, n = 2 \t| p2, n = 0 \t|"
      ]
    },
    {
      "cell_type": "code",
      "metadata": {
        "id": "_nayjrOJ_g8E",
        "colab_type": "code",
        "colab": {}
      },
      "source": [
        "def get_prob1_e_ans():\n",
        "\n",
        "  return 5  # If you think the answer to \n",
        "            # the problem is option n, return n\n"
      ],
      "execution_count": null,
      "outputs": []
    },
    {
      "cell_type": "markdown",
      "metadata": {
        "id": "Izw3v5RRAyPe",
        "colab_type": "text"
      },
      "source": [
        "f) What is the LAST line printed on the console?\n",
        "\n",
        "| Option 0 \t| Option 1 \t| Option 2 \t| Option 3 \t| Option 4 \t| Option 5 \t|\n",
        "|-\t|-\t|-\t|-\t|-\t|-\t|\n",
        "| p1, n = 0 \t| p2, n = 1 \t| p1, n = -1 \t| p1, n = 2 \t| p2, n = 2 \t| p2, n = 0 \t|"
      ]
    },
    {
      "cell_type": "code",
      "metadata": {
        "id": "WXl0ThNyA2UP",
        "colab_type": "code",
        "colab": {}
      },
      "source": [
        "def get_prob1_f_ans():\n",
        "\n",
        "  return 3  # If you think the answer to \n",
        "            # the problem is option n, return n\n"
      ],
      "execution_count": null,
      "outputs": []
    },
    {
      "cell_type": "markdown",
      "metadata": {
        "id": "bh0QSTylfoBA",
        "colab_type": "text"
      },
      "source": [
        "## Problem 2 [35 points]\n",
        "\n",
        "Given an integer array *nums* (no duplicates) and integer *k*, return all possible subsets of *nums* of size *k*. Your output must not contain duplicate subsets.\n",
        "\n",
        "    Examples:\n",
        "    nums = [1,2,3]\n",
        "    k= 1 → \n",
        "           [\n",
        "            [3],\n",
        "            [1],\n",
        "            [2]\n",
        "          ]\n",
        "\n",
        "    nums = [1,2,3]\n",
        "    k= 2 → \n",
        "           [\n",
        "            [1,3],\n",
        "            [2,3],\n",
        "            [1,2]\n",
        "          ]\n",
        "\n",
        "    nums = [1,2,3]\n",
        "    k= 0 → \n",
        "           [\n",
        "            []\n",
        "          ]\n",
        "\n",
        "    nums = [1,2,3]\n",
        "    k= 3 → \n",
        "           [\n",
        "            [1,2,3]\n",
        "          ]\n"
      ]
    },
    {
      "cell_type": "code",
      "metadata": {
        "id": "1O855Es3gAts",
        "colab_type": "code",
        "colab": {}
      },
      "source": [
        "# You are allowed to modify the code in the cell as you please, \n",
        "# just don't change the method signature.\n",
        "\n",
        "# Feel free to write a helper (recursive) method. That is, it's OK if get_subsets\n",
        "# is not a recursive method as long as it calls another method that IS recursive\n",
        "\n",
        "def get_subsets(nums, k):\n",
        "  arr = []\n",
        "  recursion(nums, k, arr)\n",
        "  return arr\n",
        "\n",
        "def recursion(nums, k, arr):\n",
        "  if k == 0:\n",
        "    return arr\n",
        "  if len(nums) == 0:\n",
        "    return arr\n",
        "\n",
        "  for i in range(len(nums)):\n",
        "    letter = nums[i]\n",
        "    copy_nums = "
      ],
      "execution_count": 4,
      "outputs": []
    },
    {
      "cell_type": "markdown",
      "metadata": {
        "id": "GBiXXN1JgAIh",
        "colab_type": "text"
      },
      "source": [
        "Test your implementation by calling it multiple times with different input values and comparing the output produced by your method and the expected output. For each test, add a short comment explaining why you think that test is appropiate. Do not write an excesive amount of tests; just write the number of tests you think you need and justify your decisions. "
      ]
    },
    {
      "cell_type": "code",
      "metadata": {
        "id": "9Qy1hyr6gLbm",
        "colab_type": "code",
        "colab": {
          "base_uri": "https://localhost:8080/",
          "height": 69
        },
        "outputId": "3481c541-18df-4c4e-e078-704c615b4e53"
      },
      "source": [
        "# Your test cases go here\n",
        "get_subsets([1,2], 2)"
      ],
      "execution_count": 5,
      "outputs": [
        {
          "output_type": "stream",
          "text": [
            "0\n",
            "1\n"
          ],
          "name": "stdout"
        },
        {
          "output_type": "execute_result",
          "data": {
            "text/plain": [
              "[]"
            ]
          },
          "metadata": {
            "tags": []
          },
          "execution_count": 5
        }
      ]
    },
    {
      "cell_type": "markdown",
      "metadata": {
        "id": "Ez6EWnClCY4p",
        "colab_type": "text"
      },
      "source": [
        "## Problem 3 [35 points]\n",
        "\n",
        "Provide and implementation for the count method. This method receives a non-negative int *n* and returns the number of digits in *n* that are less than or equal\n",
        "to 5 - Use recursion - no loops.\n",
        "\n",
        "\n",
        "    Examples:\n",
        "    n = 0 → 1\n",
        "    n = 3 → 1\n",
        "    n = 5 → 1\n",
        "    n = 8 → 0\n",
        "    n = 285 → 2 \n",
        "    n = 565891 → 3\n",
        "    n = 123231 → 6"
      ]
    },
    {
      "cell_type": "code",
      "metadata": {
        "id": "7KvU6m9sDK1r",
        "colab_type": "code",
        "colab": {}
      },
      "source": [
        "# You are allowed to modify the code in the cell as you please, \n",
        "# just don't change the method signature.\n",
        "\n",
        "# Feel free to write a helper (recursive) method. That is, it's OK if count\n",
        "# is not a recursive method as long as it calls another method that IS recursive\n",
        "\n",
        "def count(n):\n",
        "  if n == 0: #Base case, this way all digits would have been counted\n",
        "    return 0\n",
        "  \n",
        "  digit = n % 10  #Gets first digit\n",
        "  if digit <= 5:\n",
        "    return 1 + count(n // 10) \n",
        "  return count(n//10)"
      ],
      "execution_count": 51,
      "outputs": []
    },
    {
      "cell_type": "markdown",
      "metadata": {
        "id": "aXy2Lg56DBtm",
        "colab_type": "text"
      },
      "source": [
        "Test your implementation by calling it multiple times with different input values and comparing the output produced by your method and the expected output. For each test, add a short comment explaining why you think that test is appropiate. Do not write an excesive amount of tests; just write the number of tests you think you need and justify your decisions. "
      ]
    },
    {
      "cell_type": "code",
      "metadata": {
        "id": "wRiVrBWADQAc",
        "colab_type": "code",
        "colab": {
          "base_uri": "https://localhost:8080/",
          "height": 121
        },
        "outputId": "c704fd71-9b7d-4076-8c3e-806cca105013"
      },
      "source": [
        "# Your test cases go here\n",
        "\n",
        "print(count(6))\n",
        "print(count(5))\n",
        "print(count(285))\n",
        "print(count(565891))\n",
        "print(count(123231))\n",
        "print(count(1010))"
      ],
      "execution_count": 52,
      "outputs": [
        {
          "output_type": "stream",
          "text": [
            "0\n",
            "1\n",
            "2\n",
            "3\n",
            "6\n",
            "4\n"
          ],
          "name": "stdout"
        }
      ]
    }
  ]
}