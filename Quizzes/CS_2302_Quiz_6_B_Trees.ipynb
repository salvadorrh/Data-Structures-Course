{
  "nbformat": 4,
  "nbformat_minor": 0,
  "metadata": {
    "colab": {
      "name": "Copy of CS 2302 - Quiz 6 - B-Trees",
      "provenance": [],
      "collapsed_sections": [
        "Pvc8YZjiyMO5"
      ]
    },
    "kernelspec": {
      "name": "python3",
      "display_name": "Python 3"
    }
  },
  "cells": [
    {
      "cell_type": "markdown",
      "metadata": {
        "id": "MKsRDH5ZUdfasdv"
      },
      "source": [
        "# CS 2302 - Quiz 6 - B-Trees"
      ]
    },
    {
      "cell_type": "markdown",
      "metadata": {
        "id": "overview"
      },
      "source": [
        "## **Before you start**\n",
        "\n",
        "Make a copy of this Colab by clicking on File > Save a Copy in Drive\n"
      ]
    },
    {
      "cell_type": "code",
      "metadata": {
        "id": "nen9M7Vqj5cy"
      },
      "source": [
        "student_name = \"Salvador Robles Herrera\"\n",
        "student_id = \"80683116\""
      ],
      "execution_count": 48,
      "outputs": []
    },
    {
      "cell_type": "markdown",
      "metadata": {
        "id": "BP7b0ZYDnoV6"
      },
      "source": [
        "### [20 points] Problem 1\n",
        "\n",
        "Complete the implementation of the method *largest_at_depth* that receives an integer *d* and returns the largest key in the tree that has depth *d*.\n",
        "\n"
      ]
    },
    {
      "cell_type": "markdown",
      "metadata": {
        "id": "7yBD7ozhXAB0"
      },
      "source": [
        "### [20 points] Problem 2\n",
        "\n",
        "Complete the implementation of the method *num_nodes_at_depth* that receives an integer *d* and returns the number of nodes at depth *d*.\n",
        "\n"
      ]
    },
    {
      "cell_type": "markdown",
      "metadata": {
        "id": "IhU9L2JNXVp7"
      },
      "source": [
        "### [20 points] Problem 3\n",
        "\n",
        "Complete the implementation of the method *key_depth* that receives a key *k* and returns the depth at which *k* is found in the tree, or -1 if *k* is not in the tree. To receive credit, you must take advantage of the fact that a B-Tree is a search tree. If you make unnecesary recursive calls, you will not earn any points. \n",
        "\n",
        "\n"
      ]
    },
    {
      "cell_type": "markdown",
      "metadata": {
        "id": "Wf9tZ4V6Xnux"
      },
      "source": [
        "### [20 points] Problem 4\n",
        "\n",
        "Complete the implementation of the method *num_full_nodes*. This method returns the number of nodes in the tree that are full (length of keys list is equal to the maximum number of keys they can hold).\n",
        "\n"
      ]
    },
    {
      "cell_type": "markdown",
      "metadata": {
        "id": "qPvASo2dX89V"
      },
      "source": [
        "### [20 points] Problem 5\n",
        "\n",
        "Complete the implementation of the method *num_keys_larger_than*. This method receives a key *k* as input and returns the number of keys in the tree that are larger than than *k*. To receive credit, you must take advantage of the fact that a B-Tree is a search tree. If you make unnecesary recursive calls, you will not earn any points. \n",
        "\n"
      ]
    },
    {
      "cell_type": "markdown",
      "metadata": {
        "id": "u25k6YQTaWIi"
      },
      "source": [
        "**For all coding questions, feel free to write helper methods, if necessary**"
      ]
    },
    {
      "cell_type": "code",
      "metadata": {
        "id": "q2iUTtHNX72E"
      },
      "source": [
        "# Code to implement a B-tree\n",
        "# Programmed by Olac Fuentes\n",
        "# Modified by Diego Aguirre on October 9, 2019\n",
        "\n",
        "\n",
        "import matplotlib.pyplot as plt\n",
        "\n",
        "\n",
        "class BTreeNode:\n",
        "    # Constructor\n",
        "    def __init__(self, keys=[], children=[], is_leaf=True, max_num_keys=5):\n",
        "        self.keys = keys\n",
        "        self.children = children\n",
        "        self.is_leaf = is_leaf\n",
        "        if max_num_keys < 3:  # max_num_keys must be odd and greater or equal to 3\n",
        "            max_num_keys = 3\n",
        "        if max_num_keys % 2 == 0:  # max_num_keys must be odd and greater or equal to 3\n",
        "            max_num_keys += 1\n",
        "        self.max_num_keys = max_num_keys\n",
        "\n",
        "    def is_full(self):\n",
        "        return len(self.keys) >= self.max_num_keys\n",
        "\n",
        "\n",
        "class BTree:\n",
        "    # Constructor\n",
        "    def __init__(self, max_num_keys=5):\n",
        "        self.max_num_keys = max_num_keys\n",
        "        self.root = BTreeNode(max_num_keys=max_num_keys)\n",
        "\n",
        "    # ------------- START PROBLEM 1 -------------\n",
        "    def largest_at_depth(self, d):\n",
        "      if self is None or d < 0:\n",
        "        raise Exception()\n",
        "      return self.largest_helper(self.root,d)\n",
        "\n",
        "    def largest_helper(self, node, d):\n",
        "      if node is None:\n",
        "        raise Exeption()\n",
        "      if d==0:\n",
        "        return node.keys[len(node.keys)-1]\n",
        "\n",
        "      if (len(node.children) == 0):\n",
        "        raise Exception()\n",
        "\n",
        "      return self.largest_helper(node.children[len(node.children)-1], d-1)\n",
        "      \n",
        "\n",
        "    # --------------- END PROBLEM 1 --------------\n",
        "\n",
        "    # ------------- START PROBLEM 2 -------------\n",
        "    def num_nodes_at_depth(self, d):\n",
        "      if self is None or d < 0 or self.height()<d:\n",
        "        return 0\n",
        "      return self.num_nodes_helper(self.root,d)\n",
        "\n",
        "    def num_nodes_helper(self, node, d):\n",
        "      if d==0:\n",
        "        return len(node.keys)\n",
        "\n",
        "      num_nodes = 0\n",
        "      for child in node.children:\n",
        "        num_nodes += self.num_nodes_helper(child, d-1)\n",
        "\n",
        "      return num_nodes\n",
        "\n",
        "    # --------------- END PROBLEM 2 --------------\n",
        "\n",
        "    # ------------- START PROBLEM 3 -------------\n",
        "    def key_depth(self, k):\n",
        "      if self is None:\n",
        "        return -1\n",
        "      return self.key_helper(self.root, k)\n",
        "\n",
        "    def key_helper(self, node, k):\n",
        "      if k in node.keys:\n",
        "        return True\n",
        "      if node.is_leaf:\n",
        "        return False\n",
        "\n",
        "      child_idx = self.find_child(k, node)\n",
        "      return self.key_helper(node.children[child_idx],k)\n",
        "      \n",
        "    # --------------- END PROBLEM 3 --------------\n",
        "\n",
        "    # ------------- START PROBLEM 4 -------------\n",
        "    def num_full_nodes(self):\n",
        "      if self is None:\n",
        "        return 0\n",
        "      return self.num_full_helper(self.root)\n",
        "\n",
        "    def num_full_helper(self, node):\n",
        "      full_nodes = 0\n",
        "      if node.is_full():\n",
        "        full_nodes += 1\n",
        "\n",
        "      for child in node.children:\n",
        "        full_nodes += self.num_full_helper(child)\n",
        "      \n",
        "      return full_nodes\n",
        "\n",
        "    # --------------- END PROBLEM 4 --------------\n",
        "  \n",
        "    # ------------- START PROBLEM 5 -------------\n",
        "    def num_keys_larger_than(self, k):\n",
        "      if self is None:\n",
        "        return 0\n",
        "      return self.num_keys_helper(self.root, k)\n",
        "\n",
        "    def num_keys_helper(self, node, k):\n",
        "      if node.is_leaf:\n",
        "\n",
        "        less_than = 0        \n",
        "        for i in range(len(node.keys)):\n",
        "          if node.keys[i] <= k:\n",
        "            less_than += 1\n",
        "\n",
        "        return len(node.keys) - less_than\n",
        "\n",
        "      sum = 0\n",
        "      less_than = 0\n",
        "      for i in range(len(node.keys)):     \n",
        "        if node.keys[i] <= k:\n",
        "          less_than += 1\n",
        "\n",
        "      child = less_than\n",
        "      sum += len(node.keys) - less_than\n",
        "\n",
        "      while len(node.children) > child:\n",
        "        sum += self.num_keys_helper(node.children[child],k)\n",
        "        child +=1 \n",
        "        \n",
        "      return sum\n",
        "    # --------------- END PROBLEM 5 --------------\n",
        "  \n",
        "    def find_child(self, k, node):\n",
        "        # Determines value of c, such that k must be in subtree node.children[c], if k is in the BTree\n",
        "        for i in range(len(node.keys)):\n",
        "            if k < node.keys[i]:\n",
        "                return i\n",
        "        return len(node.keys)\n",
        "\n",
        "    def insert_internal(self, i, node):\n",
        "\n",
        "        # node cannot be Full\n",
        "        if node.is_leaf:\n",
        "            self.insert_leaf(i, node)\n",
        "        else:\n",
        "            k = self.find_child(i, node)\n",
        "            if node.children[k].is_full():\n",
        "                m, l, r = self.split(node.children[k])\n",
        "                node.keys.insert(k, m)\n",
        "                node.children[k] = l\n",
        "                node.children.insert(k + 1, r)\n",
        "                k = self.find_child(i, node)\n",
        "            self.insert_internal(i, node.children[k])\n",
        "\n",
        "    def split(self, node):\n",
        "\n",
        "        mid = node.max_num_keys // 2\n",
        "        if node.is_leaf:\n",
        "            left_child = BTreeNode(node.keys[:mid], max_num_keys=node.max_num_keys)\n",
        "            right_child = BTreeNode(node.keys[mid + 1:], max_num_keys=node.max_num_keys)\n",
        "        else:\n",
        "            left_child = BTreeNode(node.keys[:mid], node.children[:mid + 1], node.is_leaf, max_num_keys=node.max_num_keys)\n",
        "            right_child = BTreeNode(node.keys[mid + 1:], node.children[mid + 1:], node.is_leaf, max_num_keys=node.max_num_keys)\n",
        "        return node.keys[mid], left_child, right_child\n",
        "\n",
        "    def insert_leaf(self, i, node):\n",
        "        node.keys.append(i)\n",
        "        node.keys.sort()\n",
        "\n",
        "    def leaves(self):\n",
        "        return self._leaves(self.root)\n",
        "\n",
        "    def _leaves(self, node):\n",
        "        # Returns the leaves in a b-tree\n",
        "        if node.is_leaf:\n",
        "            return [node.keys]\n",
        "        s = []\n",
        "        for c in node.children:\n",
        "            s = s + self._leaves(c)\n",
        "        return s\n",
        "\n",
        "    def insert(self, i):\n",
        "        self._insert(i, self.root)\n",
        "\n",
        "    def _insert(self, i, node):\n",
        "\n",
        "        if not node.is_full():\n",
        "            self.insert_internal(i, node)\n",
        "        else:\n",
        "            m, l, r = self.split(node)\n",
        "            node.keys = [m]\n",
        "            node.children = [l, r]\n",
        "            node.is_leaf = False\n",
        "            k = self.find_child(i, node)\n",
        "            self.insert_internal(i, node.children[k])\n",
        "\n",
        "    def height(self):\n",
        "        return self._height(self.root)\n",
        "\n",
        "    def _height(self, node):\n",
        "        if node.is_leaf:\n",
        "            return 0\n",
        "        return 1 + self._height(node.children[0])\n",
        "\n",
        "    def print(self):\n",
        "        self._print(self.root)\n",
        "\n",
        "    def _print(self, node):\n",
        "        # Prints keys in tree in ascending order\n",
        "        if node.is_leaf:\n",
        "            for t in node.keys:\n",
        "                print(t, end=' ')\n",
        "        else:\n",
        "            for i in range(len(node.keys)):\n",
        "                self._print(node.children[i])\n",
        "                print(node.keys[i], end=' ')\n",
        "            self._print(node.children[len(node.keys)])\n",
        "\n",
        "    def print_d(self, space):\n",
        "        self._print_d(space, self.root)\n",
        "\n",
        "    def _print_d(self, space, node=None):\n",
        "\n",
        "        # Prints keys and structure of B-tree\n",
        "        if node.is_leaf:\n",
        "            for i in range(len(node.keys) - 1, -1, -1):\n",
        "                print(space, node.keys[i])\n",
        "        else:\n",
        "            self._print_d(space + '   ', node.children[len(node.keys)])\n",
        "            for i in range(len(node.keys) - 1, -1, -1):\n",
        "                print(space, node.keys[i])\n",
        "                self._print_d(space + '   ', node.children[i])\n",
        "\n",
        "    def search(self, k):\n",
        "        return self._search(k, self.root)\n",
        "\n",
        "    def _search(self, k, node):\n",
        "        # Returns node where k is, or None if k is not in the tree\n",
        "        if k in node.keys:\n",
        "            return node\n",
        "        if node.is_leaf:\n",
        "            return None\n",
        "        return self._search(k, node.children[self.find_child(k, node)])\n",
        "\n",
        "    def _set_x(self, dx, node=None):\n",
        "        if node is None:\n",
        "            node = self.root\n",
        "        # Finds x-coordinate to display each node in the tree\n",
        "        if node.is_leaf:\n",
        "            return\n",
        "        else:\n",
        "            for c in node.children:\n",
        "                self._set_x(dx, c)\n",
        "            d = (dx[node.children[0].keys[0]] + dx[node.children[-1].keys[0]] + 10 * len(node.children[-1].keys)) / 2\n",
        "            dx[node.keys[0]] = d - 10 * len(node.keys) / 2\n",
        "\n",
        "    def _draw_btree(self, dx, y, y_inc, fs, ax, node):\n",
        "\n",
        "        # Function to display b-tree to the screen\n",
        "        # It works fine for trees with up to about 70 keys\n",
        "        xs = dx[node.keys[0]]\n",
        "        if node.is_leaf:\n",
        "            for itm in node.keys:\n",
        "                ax.plot([xs, xs + 10, xs + 10, xs, xs], [y, y, y - 10, y - 10, y], linewidth=1, color='k')\n",
        "                ax.text(xs + 5, y - 5, str(itm), ha=\"center\", va=\"center\", fontsize=fs)\n",
        "                xs += 10\n",
        "        else:\n",
        "            for i in range(len(node.keys)):\n",
        "                xc = dx[node.children[i].keys[0]] + 5 * len(node.children[i].keys)\n",
        "                ax.plot([xs, xs + 10, xs + 10, xs, xs], [y, y, y - 10, y - 10, y], linewidth=1, color='k')\n",
        "                ax.text(xs + 5, y - 5, str(node.keys[i]), ha=\"center\", va=\"center\", fontsize=fs)\n",
        "                ax.plot([xs, xc], [y - 10, y - y_inc], linewidth=1, color='k')\n",
        "                self._draw_btree(dx, y - y_inc, y_inc, fs, ax, node.children[i])\n",
        "                xs += 10\n",
        "            xc = dx[node.children[-1].keys[0]] + 5 * len(node.children[-1].keys)\n",
        "            ax.plot([xs, xc], [y - 10, y - y_inc], linewidth=1, color='k')\n",
        "            self._draw_btree(dx, y - y_inc, y_inc, fs, ax, node.children[-1])\n",
        "\n",
        "    def draw(self):\n",
        "        # Find x-coordinates of leaves\n",
        "        ll = self.leaves()\n",
        "        dx = {}\n",
        "        d = 0\n",
        "        for l in ll:\n",
        "            dx[l[0]] = d\n",
        "            d += 10 * (len(l) + 1)\n",
        "            # Find x-coordinates of internal nodes\n",
        "        self._set_x(dx)\n",
        "        # plt.close('all')\n",
        "        fig, ax = plt.subplots()\n",
        "        self._draw_btree(dx, 0, 30, 10, ax, self.root)\n",
        "        ax.set_aspect(1.0)\n",
        "        ax.axis('off')\n",
        "        plt.show()"
      ],
      "execution_count": 49,
      "outputs": []
    },
    {
      "cell_type": "code",
      "metadata": {
        "id": "CXS5raeTHsbZ",
        "outputId": "1cfe8017-3462-47c6-b999-0a705a27bfa7",
        "colab": {
          "base_uri": "https://localhost:8080/",
          "height": 404
        }
      },
      "source": [
        "b = BTree(3)\n",
        "#b2 = BTree(4)\n",
        "#for i in range(10):\n",
        "#  b2.insert(i)\n",
        "b.insert(2)\n",
        "b.insert(5)\n",
        "b.insert(8)\n",
        "b.insert(10)\n",
        "b.insert(6)\n",
        "b.insert(7)\n",
        "b.draw()\n",
        "#b2.draw()\n",
        "print(\"largest_at_depth, what I got: \", b.largest_at_depth(0), \" Expected: 8\")\n",
        "print(\"largest_at_depth, what I got: \", b.largest_at_depth(1), \" Expected: 10\")\n",
        "print(\"num_nodes_at_depth, what I got: \", b.num_nodes_at_depth(0), \" Expected: 2\")\n",
        "print(\"num_nodes_at_depth, what I got: \", b.num_nodes_at_depth(1), \" Expected: 4\")\n",
        "print(\"key_depth, what I got: \", b.key_depth(2), \" Expected: True\")\n",
        "print(\"key_depth, what I got: \", b.key_depth(7), \" Expected: True\")\n",
        "print(\"key_depth, what I got: \", b.key_depth(9), \" Expected: False\")\n",
        "print(\"num_full_nodes, what I got: \", b.num_full_nodes(), \" Expected: 0\")\n",
        "print(\"num_keys_larger_than, what I got: \", b.num_keys_larger_than(2), \" Expected: 5\")\n"
      ],
      "execution_count": 50,
      "outputs": [
        {
          "output_type": "display_data",
          "data": {
            "image/png": "[encoded data removed]",
            "text/plain": [
              "<Figure size 432x288 with 1 Axes>"
            ]
          },
          "metadata": {
            "tags": [],
            "needs_background": "light"
          }
        },
        {
          "output_type": "stream",
          "text": [
            "largest_at_depth, what I got:  8  Expected: 8\n",
            "largest_at_depth, what I got:  10  Expected: 10\n",
            "num_nodes_at_depth, what I got:  2  Expected: 2\n",
            "num_nodes_at_depth, what I got:  4  Expected: 4\n",
            "key_depth, what I got:  True  Expected: True\n",
            "key_depth, what I got:  True  Expected: True\n",
            "key_depth, what I got:  False  Expected: False\n",
            "num_full_nodes, what I got:  0  Expected: 0\n",
            "num_keys_larger_than, what I got:  5  Expected: 5\n"
          ],
          "name": "stdout"
        }
      ]
    },
    {
      "cell_type": "markdown",
      "metadata": {
        "id": "Pvc8YZjiyMO5"
      },
      "source": [
        "## How to Submit \n",
        "\n",
        "1. File > Download .ipynb\n",
        "2. Go to Blackboard, find the submission page, and upload the .ipynb file you just downloaded."
      ]
    }
  ]
}