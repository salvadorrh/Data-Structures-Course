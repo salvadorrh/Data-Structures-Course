{
  "nbformat": 4,
  "nbformat_minor": 0,
  "metadata": {
    "colab": {
      "name": "Copy of CS 2302 - Quiz 3 - Time Complexity (Non-recursive Algorithms)",
      "provenance": [],
      "collapsed_sections": []
    },
    "kernelspec": {
      "name": "python3",
      "display_name": "Python 3"
    }
  },
  "cells": [
    {
      "cell_type": "markdown",
      "metadata": {
        "colab_type": "text",
        "id": "MKsRDH5ZUdfasdv"
      },
      "source": [
        "# CS 2302 - Quiz 3 - Time Complexity (Non-recursive Algorithms)"
      ]
    },
    {
      "cell_type": "markdown",
      "metadata": {
        "colab_type": "text",
        "id": "overview"
      },
      "source": [
        "## **Before you start**\n",
        "\n",
        "Make a copy of this Colab by clicking on File > Save a Copy in Drive\n"
      ]
    },
    {
      "cell_type": "code",
      "metadata": {
        "id": "nen9M7Vqj5cy",
        "colab_type": "code",
        "colab": {}
      },
      "source": [
        "student_name = \"Salvador Robles Herrera\"\n",
        "student_id = \"80683116\""
      ],
      "execution_count": null,
      "outputs": []
    },
    {
      "cell_type": "markdown",
      "metadata": {
        "id": "BP7b0ZYDnoV6",
        "colab_type": "text"
      },
      "source": [
        "### [10 points] Problem 1\n",
        " \n",
        "What is the running time of the following function?\n",
        "\n",
        "    def f(nums_lst):\n",
        "      for i in range(len(nums_lst) + len(nums_lst)):\n",
        "          print(\"hi!\")\n",
        "\n",
        "\n",
        "| Option 0 \t| Option 1 \t| Option 2 \t| Option 3 \t| Option 4 \t| Option 5 \t| Option 6 \t|\n",
        "|-\t|-\t|-\t|-\t|-\t|-\t|-\t|\n",
        "| O(1) \t| O(n) \t| O(log n) \t| O(n^2) | O(n log n) \t| O(n^3) \t| Something else \t|\n"
      ]
    },
    {
      "cell_type": "code",
      "metadata": {
        "id": "sbwF-hLQtfBA",
        "colab_type": "code",
        "colab": {}
      },
      "source": [
        "def get_prob1_ans():\n",
        "\n",
        "  return 1  # If you think the answer to \n",
        "            # the problem is option n, return n\n"
      ],
      "execution_count": 2,
      "outputs": []
    },
    {
      "cell_type": "markdown",
      "metadata": {
        "colab_type": "text",
        "id": "RFbLRRjKqEk3"
      },
      "source": [
        "### [10 points] Problem 2\n",
        "What is the running time of the following function?\n",
        "\n",
        "    def f(nums_lst):\n",
        "      for i in range(2 ** 8):\n",
        "          print(\"hey\")\n",
        "\n",
        "\n",
        "\n",
        "| Option 0 \t| Option 1 \t| Option 2 \t| Option 3 \t| Option 4 \t| Option 5 \t| Option 6 \t|\n",
        "|-\t|-\t|-\t|-\t|-\t|-\t|-\t|\n",
        "| O(1) \t| O(n) \t| O(log n) \t| O(n^2) | O(n log n) \t| O(n^3) \t| Something else \t|\n"
      ]
    },
    {
      "cell_type": "code",
      "metadata": {
        "colab_type": "code",
        "id": "S7Rtqgj7qPqM",
        "colab": {}
      },
      "source": [
        "def get_prob2_ans():\n",
        "\n",
        "  return 0  # If you think the answer to \n",
        "            # the problem is option n, return n\n"
      ],
      "execution_count": 1,
      "outputs": []
    },
    {
      "cell_type": "markdown",
      "metadata": {
        "colab_type": "text",
        "id": "6AesGPkBrMz7"
      },
      "source": [
        "### [10 points] Problem 3\n",
        "What is the running time of the following function?\n",
        "\n",
        "    def f(nums_lst):\n",
        "      for i in range( len(nums_lst) // 2 ):\n",
        "          for j in range( len(nums_lst) // 4 ):\n",
        "              for k in range( len(nums_lst) + len(nums_lst) // 8):\n",
        "                  print(nums_lst[0])\n",
        "\n",
        "| Option 0 \t| Option 1 \t| Option 2 \t| Option 3 \t| Option 4 \t| Option 5 \t| Option 6 \t|\n",
        "|-\t|-\t|-\t|-\t|-\t|-\t|-\t|\n",
        "| O(1) \t| O(n) \t| O(log n) \t| O(n^2) | O(n log n) \t| O(n^3) \t| Something else \t|\n"
      ]
    },
    {
      "cell_type": "code",
      "metadata": {
        "colab_type": "code",
        "id": "1SWoSluYrRA_",
        "colab": {}
      },
      "source": [
        "def get_prob3_ans():\n",
        "\n",
        "  return 5  # If you think the answer to \n",
        "            # the problem is option n, return n\n"
      ],
      "execution_count": 4,
      "outputs": []
    },
    {
      "cell_type": "markdown",
      "metadata": {
        "colab_type": "text",
        "id": "AZcEDR6irlig"
      },
      "source": [
        "### [10 points] Problem 4\n",
        "What is the running time of the following function?\n",
        "\n",
        "    def f(nums_lst):\n",
        "      for k in range(len(nums_lst) * len(nums_lst) * len(nums_lst)):\n",
        "          i = len(nums_lst)\n",
        "\n",
        "          while i > 0:\n",
        "              print(a[0])\n",
        "              i = i // 2\n",
        "\n",
        "\n",
        "| Option 0 \t| Option 1 \t| Option 2 \t| Option 3 \t| Option 4 \t| Option 5 \t| Option 6 \t|\n",
        "|-\t|-\t|-\t|-\t|-\t|-\t|-\t|\n",
        "| O(1) \t| O(n) \t| O(log n) \t| O(n^2) | O(n log n) \t| O(n^3) \t| Something else \t|\n"
      ]
    },
    {
      "cell_type": "code",
      "metadata": {
        "colab_type": "code",
        "id": "0On0U2V0rwdC",
        "colab": {}
      },
      "source": [
        "def get_prob4_ans():\n",
        "\n",
        "  return 6  # If you think the answer to \n",
        "            # the problem is option n, return n\n"
      ],
      "execution_count": null,
      "outputs": []
    },
    {
      "cell_type": "markdown",
      "metadata": {
        "id": "4f3RqFuVCSUW",
        "colab_type": "text"
      },
      "source": [
        "### [10 points] Problem 5\n",
        "What is the running time of the following function?\n",
        "\n",
        "    def f(nums_lst):\n",
        "      for k in range(len(nums_lst)):\n",
        "          i = len(nums_lst) * len(nums_lst) * len(nums_lst)\n",
        "\n",
        "          while i > 0:\n",
        "              print(a[0])\n",
        "              i = i // 2\n",
        "\n",
        "\n",
        "| Option 0 \t| Option 1 \t| Option 2 \t| Option 3 \t| Option 4 \t| Option 5 \t| Option 6 \t|\n",
        "|-\t|-\t|-\t|-\t|-\t|-\t|-\t|\n",
        "| O(1) \t| O(n) \t| O(log n) \t| O(n^2) | O(n log n) \t| O(n^3) \t| Something else \t|\n"
      ]
    },
    {
      "cell_type": "code",
      "metadata": {
        "id": "s9DrXx4mCPu7",
        "colab_type": "code",
        "colab": {}
      },
      "source": [
        "def get_prob5_ans():\n",
        "\n",
        "  return 4  # If you think the answer to \n",
        "            # the problem is option n, return n\n"
      ],
      "execution_count": null,
      "outputs": []
    },
    {
      "cell_type": "markdown",
      "metadata": {
        "id": "BSMkwJpJCpTc",
        "colab_type": "text"
      },
      "source": [
        "### [10 points] Problem 6\n",
        "What is the running time of the following function?\n",
        "\n",
        "    def f(nums_lst):\n",
        "      for i in range(len(nums_list) - 1, -1, -2):\n",
        "          print(\"hey\")\n",
        "\n",
        "\n",
        "\n",
        "| Option 0 \t| Option 1 \t| Option 2 \t| Option 3 \t| Option 4 \t| Option 5 \t| Option 6 \t|\n",
        "|-\t|-\t|-\t|-\t|-\t|-\t|-\t|\n",
        "| O(1) \t| O(n) \t| O(log n) \t| O(n^2) | O(n log n) \t| O(n^3) \t| Something else \t|\n"
      ]
    },
    {
      "cell_type": "code",
      "metadata": {
        "id": "GxvXDb9pCzBq",
        "colab_type": "code",
        "colab": {}
      },
      "source": [
        "def get_prob6_ans():\n",
        "\n",
        "  return 1  # If you think the answer to \n",
        "            # the problem is option n, return n\n"
      ],
      "execution_count": 5,
      "outputs": []
    },
    {
      "cell_type": "markdown",
      "metadata": {
        "id": "nDYi-_9jDoI3",
        "colab_type": "text"
      },
      "source": [
        "### [10 points] Problem 7\n",
        "What is the running time of the following function?\n",
        "\n",
        "    def f(nums_lst):\n",
        "      for i in range(len(nums_list)):\n",
        "          if i < 10:\n",
        "            print(\"hi\")\n",
        "          else:\n",
        "            j = len(nums_list)\n",
        "            while j > 0:\n",
        "              print(nums_list[j-1])\n",
        "              j //= 2\n",
        "\n",
        "| Option 0 \t| Option 1 \t| Option 2 \t| Option 3 \t| Option 4 \t| Option 5 \t| Option 6 \t|\n",
        "|-\t|-\t|-\t|-\t|-\t|-\t|-\t|\n",
        "| O(1) \t| O(n) \t| O(log n) \t| O(n^2) | O(n log n) \t| O(n^3) \t| Something else \t|\n"
      ]
    },
    {
      "cell_type": "code",
      "metadata": {
        "id": "YrZICwjCEMyA",
        "colab_type": "code",
        "colab": {}
      },
      "source": [
        "def get_prob7_ans():\n",
        "\n",
        "  return 4  # If you think the answer to \n",
        "            # the problem is option n, return n\n"
      ],
      "execution_count": null,
      "outputs": []
    },
    {
      "cell_type": "markdown",
      "metadata": {
        "id": "GK0oira9ESSg",
        "colab_type": "text"
      },
      "source": [
        "### [10 points] Problem 8\n",
        "What is the running time of the following function?\n",
        "\n",
        "    def f(nums_lst):\n",
        "      for i in range(len(nums_list)):\n",
        "          if i >= 10:\n",
        "            print(\"hi\")\n",
        "          else:\n",
        "            j = len(nums_list)\n",
        "            while j > 0:\n",
        "              print(nums_list[j-1])\n",
        "              j //= 2\n",
        "\n",
        "| Option 0 \t| Option 1 \t| Option 2 \t| Option 3 \t| Option 4 \t| Option 5 \t| Option 6 \t|\n",
        "|-\t|-\t|-\t|-\t|-\t|-\t|-\t|\n",
        "| O(1) \t| O(n) \t| O(log n) \t| O(n^2) | O(n log n) \t| O(n^3) \t| Something else \t|\n"
      ]
    },
    {
      "cell_type": "code",
      "metadata": {
        "id": "MoqmnEjEFNs-",
        "colab_type": "code",
        "colab": {}
      },
      "source": [
        "def get_prob8_ans():\n",
        "\n",
        "  return 1  # If you think the answer to \n",
        "            # the problem is option n, return n\n"
      ],
      "execution_count": 11,
      "outputs": []
    },
    {
      "cell_type": "markdown",
      "metadata": {
        "id": "351X5HjJFQSb",
        "colab_type": "text"
      },
      "source": [
        "### [10 points] Problem 9\n",
        "What is the running time of the following function?\n",
        "\n",
        "    def f(nums_lst):\n",
        "      for i in range(len(nums_list)):\n",
        "          if i >= len(nums_list) // 4:\n",
        "            print(\"hi\")\n",
        "          else:\n",
        "            for j in range(len(nums_list)):\n",
        "              print(nums_list[j])\n",
        "\n",
        "| Option 0 \t| Option 1 \t| Option 2 \t| Option 3 \t| Option 4 \t| Option 5 \t| Option 6 \t|\n",
        "|-\t|-\t|-\t|-\t|-\t|-\t|-\t|\n",
        "| O(1) \t| O(n) \t| O(log n) \t| O(n^2) | O(n log n) \t| O(n^3) \t| Something else \t|\n"
      ]
    },
    {
      "cell_type": "code",
      "metadata": {
        "id": "V5XHPdlrFghX",
        "colab_type": "code",
        "colab": {}
      },
      "source": [
        "def get_prob9_ans():\n",
        "\n",
        "  return 3  # If you think the answer to \n",
        "            # the problem is option n, return n\n"
      ],
      "execution_count": 9,
      "outputs": []
    },
    {
      "cell_type": "markdown",
      "metadata": {
        "id": "7OoO-_qcFh8e",
        "colab_type": "text"
      },
      "source": [
        "### [10 points] Problem 10\n",
        "What is the running time of the following function?\n",
        "\n",
        "    def f(nums_lst):\n",
        "      for i in range(len(nums_list)):\n",
        "          if i < len(nums_list) // 4:\n",
        "            print(\"hi\")\n",
        "          else:\n",
        "            for j in range(len(nums_list)):\n",
        "              print(nums_list[j])\n",
        "\n",
        "| Option 0 \t| Option 1 \t| Option 2 \t| Option 3 \t| Option 4 \t| Option 5 \t| Option 6 \t|\n",
        "|-\t|-\t|-\t|-\t|-\t|-\t|-\t|\n",
        "| O(1) \t| O(n) \t| O(log n) \t| O(n^2) | O(n log n) \t| O(n^3) \t| Something else \t|\n"
      ]
    },
    {
      "cell_type": "code",
      "metadata": {
        "id": "s4-O08mTFspK",
        "colab_type": "code",
        "colab": {}
      },
      "source": [
        "def get_prob10_ans():\n",
        "\n",
        "  return 3  # If you think the answer to \n",
        "            # the problem is option n, return n\n"
      ],
      "execution_count": 10,
      "outputs": []
    },
    {
      "cell_type": "markdown",
      "metadata": {
        "id": "Pvc8YZjiyMO5",
        "colab_type": "text"
      },
      "source": [
        "## How to Submit \n",
        "\n",
        "1. File > Download .ipynb\n",
        "2. Go to Blackboard, find the submission page, and upload the .ipynb file you just downloaded."
      ]
    }
  ]
}