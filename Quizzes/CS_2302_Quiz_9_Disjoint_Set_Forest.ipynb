{
  "nbformat": 4,
  "nbformat_minor": 0,
  "metadata": {
    "colab": {
      "name": "Copy of CS 2302 - Quiz 9 - Disjoint Set Forest",
      "provenance": [],
      "collapsed_sections": [
        "Pvc8YZjiyMO5"
      ]
    },
    "kernelspec": {
      "name": "python3",
      "display_name": "Python 3"
    }
  },
  "cells": [
    {
      "cell_type": "markdown",
      "metadata": {
        "id": "MKsRDH5ZUdfasdv"
      },
      "source": [
        "# CS 2302 - Quiz 9 - Disjoint Set Forest"
      ]
    },
    {
      "cell_type": "markdown",
      "metadata": {
        "id": "overview"
      },
      "source": [
        "## **Before you start**\n",
        "\n",
        "Make a copy of this Colab by clicking on File > Save a Copy in Drive\n"
      ]
    },
    {
      "cell_type": "code",
      "metadata": {
        "id": "nen9M7Vqj5cy"
      },
      "source": [
        "student_name = \"Salvador Robles Herrera\"\n",
        "student_id = \"80683116\""
      ],
      "execution_count": null,
      "outputs": []
    },
    {
      "cell_type": "markdown",
      "metadata": {
        "id": "BP7b0ZYDnoV6"
      },
      "source": [
        "### [10 points] Problem 1\n",
        "\n",
        "Trace the following code snippet:\n",
        "    \n",
        "    dsf = DisjointSetForest(7)\n",
        "    print(dsf)\n",
        "    dsf.union(2, 3)\n",
        "    print(dsf)\n",
        "    dsf.union(0, 3)\n",
        "    print(dsf)\n",
        "    dsf.union(4, 5)\n",
        "    print(dsf)\n",
        "    dsf.union(3, 5)\n",
        "    print(dsf)\n",
        "    dsf.union(1, 4)\n",
        "    print(dsf)\n",
        "\n",
        "\n"
      ]
    },
    {
      "cell_type": "markdown",
      "metadata": {
        "id": "3ZMYHHHAWjWa"
      },
      "source": [
        "[-1, -1, -1, 2, -1, -1, -1]\n",
        "\n",
        "[-1, -1, 0, 2, -1, -1, -1]\n",
        "\n",
        "[-1, -1, 0, 2, -1, 4, -1]\n",
        "\n",
        "[-1, -1, 0, 2, 0, 4, -1]\n",
        "\n",
        "[-1, -1, 0, 2, 1, 4, -1]"
      ]
    },
    {
      "cell_type": "markdown",
      "metadata": {
        "id": "7yBD7ozhXAB0"
      },
      "source": [
        "### [5 points] Problem 2\n",
        "\n",
        "Complete the implementation of the method in_same_set(self, a, b) that returns true iff a and b belong to the same set."
      ]
    },
    {
      "cell_type": "markdown",
      "metadata": {
        "id": "IhU9L2JNXVp7"
      },
      "source": [
        "### [5 points] Problem 3\n",
        "\n",
        "Consider the union operation described in the DisjointSerForest class. What would be the result of:    \n",
        "\n",
        "    dsf = DisjointSetForest(7)  \n",
        "    dsf.union(0, 0)    \n",
        "\n",
        "?\n"
      ]
    },
    {
      "cell_type": "markdown",
      "metadata": {
        "id": "7___dXmmK43j"
      },
      "source": [
        "The result of the internal array would be:\n",
        "[0, -1, -1, -1, -1, -1 , -1]"
      ]
    },
    {
      "cell_type": "markdown",
      "metadata": {
        "id": "Wf9tZ4V6Xnux"
      },
      "source": [
        "### [5 points] Problem 4\n",
        "\n",
        "Modify the union method to handle correctly the situation where both elements passed to the method already belong to the same set."
      ]
    },
    {
      "cell_type": "markdown",
      "metadata": {
        "id": "qPvASo2dX89V"
      },
      "source": [
        "### [5 points] Problem 5\n",
        "Add a method to the DisjointSerForest class that returns the number of sets encoded in self.forest.\n",
        "\n"
      ]
    },
    {
      "cell_type": "markdown",
      "metadata": {
        "id": "vKHbGUjME4Tz"
      },
      "source": [
        "### [5 points] Problem 6\n",
        "\n",
        "The method find(a) does not check if the elements of the dsf point to elements that are outside the bounds of the array, which would result in an invalid dsf. Modify the method to display an error message and return -1 if an element is found that points outside the bounds of the array."
      ]
    },
    {
      "cell_type": "markdown",
      "metadata": {
        "id": "514cUsW0GIU2"
      },
      "source": [
        "### [5 points] Problem 7\n",
        "\n",
        "The method find(a) does not check if the elements of the dsf form loops. For example self.forest=[1,2,0,-1,3,0,6], the resulting forest will contain loops and some find operations will never finish. Modify the method to display an error message and return -1 if a loop is found.\n",
        "\n"
      ]
    },
    {
      "cell_type": "markdown",
      "metadata": {
        "id": "cPpu1os8FW1l"
      },
      "source": [
        "### [5 points] Problem 8\n",
        "\n",
        "Write a method that receives an integer n and builds and returns a dsf of length n representing two disjoint sets. One of the sets must contain all even numbers (0,2,...) and the other must contain all odd numbers (1,3,...)\n",
        "\n"
      ]
    },
    {
      "cell_type": "markdown",
      "metadata": {
        "id": "KFupbXG5Fa5e"
      },
      "source": [
        "### [5 points] Problem 9\n",
        "\n",
        "Complete the implementation of the method is_equal(self, dsf). This method returns True if and only if self.forest and dsf.forest encode the same set of sets. What is the running time of your method?\n",
        "\n"
      ]
    },
    {
      "cell_type": "markdown",
      "metadata": {
        "id": "u25k6YQTaWIi"
      },
      "source": [
        "**For all coding questions, feel free to write helper methods, if necessary**"
      ]
    },
    {
      "cell_type": "code",
      "metadata": {
        "id": "q2iUTtHNX72E"
      },
      "source": [
        "class DisjointSetForest:\n",
        "  def __init__(self, n):\n",
        "    self.forest = [-1] * n\n",
        "\n",
        "  # Problem 6 # Problem 7\n",
        "  def find(self, a):\n",
        "    passed = set()\n",
        "    return self.helper_find(a, passed)\n",
        "\n",
        "  def helper_find(self, a, passed):\n",
        "    if self.forest[a] < 0:\n",
        "      return a\n",
        "    if self.forest[a] in passed:\n",
        "      print(\"THERE IS A LOOP\")\n",
        "      return -1 \n",
        "    passed.add(self.forest[a])\n",
        "    return self.helper_find(self.forest[a], passed)\n",
        "\n",
        "  # Problem 4\n",
        "  def union(self, a, b):\n",
        "    if self.in_same_set(a,b):\n",
        "      return\n",
        "    ra = self.find(a)\n",
        "    rb = self.find(b)\n",
        "    \n",
        "    if a == 1 and b == 4:\n",
        "      print(\"ra \", ra)\n",
        "      print(\"rb \", rb)\n",
        "      print(\"self.forest[rb] \", self.forest[rb])\n",
        "\n",
        "    self.forest[rb] = ra\n",
        "\n",
        "  # Problem 2\n",
        "  def in_same_set(self, a, b):\n",
        "    if self.find(a) == self.find(b):\n",
        "      return True\n",
        "    return False\n",
        "\n",
        "  # Problem 5\n",
        "  def num_sets(self):\n",
        "    num = 0\n",
        "    for i in range(len(self.forest)):\n",
        "      if self.forest[i] < 0:\n",
        "        num += 1\n",
        "    return num\n",
        "\n",
        "  # Problem 9\n",
        "  def is_equal(self, dsf):\n",
        "    if len(self.forest) != len(dsf.forest):\n",
        "      return False\n",
        "    map = {}\n",
        "    for i in range(len(self.forest)):\n",
        "      if self.find(i) not in map:\n",
        "        map[self.find(i)] = dsf.find(i)\n",
        "      else:\n",
        "        if self.find(i) != map[self.find(i)]:\n",
        "          return False  \n",
        "\n",
        "    return True\n",
        "\n",
        "  def __str__(self):\n",
        "    return str(self.forest)\n",
        "\n",
        "\n",
        "# Problem 8\n",
        "def create_evens_odds_dsf(n):\n",
        "  if n == 0:\n",
        "    return []\n",
        "  if n == 1:\n",
        "    return [-1] \n",
        "  \n",
        "  lst = [-1,-1]\n",
        "  n -= 2\n",
        "  \n",
        "  for i in range(n):\n",
        "    if i % 2 == 1:\n",
        "      lst.append(1)\n",
        "    else:\n",
        "      lst.append(0)\n",
        "\n",
        "  dsf = DisjointSetForest(n)\n",
        "  dsf.forest = lst\n",
        "  return dsf\n"
      ],
      "execution_count": 17,
      "outputs": []
    },
    {
      "cell_type": "markdown",
      "metadata": {
        "id": "y9kTDE2vJkR4"
      },
      "source": [
        "Test your solutions by calling them multiple times with different input values and comparing the output produced by your methods to the expected outputs. For each test, add a short comment explaining why you think that test is appropiate. Do not write an excesive amount of tests; just write the number of tests you think you need and justify your decisions. "
      ]
    },
    {
      "cell_type": "code",
      "metadata": {
        "id": "qjWptyKkJj0U",
        "outputId": "55a33b65-f276-449a-ed58-d5e741e8ab51",
        "colab": {
          "base_uri": "https://localhost:8080/"
        }
      },
      "source": [
        "# YOUR TEST CASES GO HERE\n",
        "\n",
        "dis1 = DisjointSetForest(7)\n",
        "dis2 = DisjointSetForest(7)\n",
        "\n",
        "print(dis1.forest)\n",
        "#print(dis2.forest)\n",
        "\n",
        "dis1.union(2, 3)\n",
        "print(dis1.forest)\n",
        "dis1.union(0, 3)\n",
        "print(dis1.forest)\n",
        "dis1.union(4, 5)\n",
        "print(dis1.forest)\n",
        "dis1.union(3, 5)\n",
        "print(dis1.forest)\n",
        "dis1.union(1, 4)\n",
        "print(dis1.forest)\n",
        "#print(dis2.forest)\n",
        "dsf = create_evens_odds_dsf(5)\n",
        "print(\"dsf\", dsf.forest)\n",
        "\n",
        "dis3 = DisjointSetForest(8)\n",
        "dis3.forest=[1,2,0,-1,3,0,6]\n",
        "dis3.find(0)"
      ],
      "execution_count": 19,
      "outputs": [
        {
          "output_type": "stream",
          "text": [
            "[-1, -1, -1, -1, -1, -1, -1]\n",
            "[-1, -1, -1, 2, -1, -1, -1]\n",
            "[-1, -1, 0, 2, -1, -1, -1]\n",
            "[-1, -1, 0, 2, -1, 4, -1]\n",
            "[-1, -1, 0, 2, 0, 4, -1]\n",
            "ra  1\n",
            "rb  0\n",
            "self.forest[rb]  -1\n",
            "[1, -1, 0, 2, 0, 4, -1]\n",
            "dsf [-1, -1, 0, 1, 0]\n",
            "THERE IS A LOOP\n"
          ],
          "name": "stdout"
        },
        {
          "output_type": "execute_result",
          "data": {
            "text/plain": [
              "-1"
            ]
          },
          "metadata": {
            "tags": []
          },
          "execution_count": 19
        }
      ]
    },
    {
      "cell_type": "markdown",
      "metadata": {
        "id": "Pvc8YZjiyMO5"
      },
      "source": [
        "## How to Submit \n",
        "\n",
        "1. File > Download .ipynb\n",
        "2. Go to Blackboard, find the submission page, and upload the .ipynb file you just downloaded."
      ]
    }
  ]
}