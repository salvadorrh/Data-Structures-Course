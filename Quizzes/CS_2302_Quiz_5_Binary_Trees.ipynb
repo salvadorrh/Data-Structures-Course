{
  "nbformat": 4,
  "nbformat_minor": 0,
  "metadata": {
    "colab": {
      "name": "Copy of CS 2302 - Quiz 5 - Binary Trees",
      "provenance": [],
      "collapsed_sections": [
        "BP7b0ZYDnoV6",
        "5QuuRRw0pK_e",
        "T5hZQ_B7pxTf",
        "nnYrmVpfqOik",
        "jyO2Yfp3xxny",
        "Pvc8YZjiyMO5"
      ]
    },
    "kernelspec": {
      "name": "python3",
      "display_name": "Python 3"
    }
  },
  "cells": [
    {
      "cell_type": "markdown",
      "metadata": {
        "id": "MKsRDH5ZUdfasdv"
      },
      "source": [
        "# CS 2302 - Quiz 5 - Binary Trees"
      ]
    },
    {
      "cell_type": "markdown",
      "metadata": {
        "id": "overview"
      },
      "source": [
        "## **Before you start**\n",
        "\n",
        "Make a copy of this Colab by clicking on File > Save a Copy in Drive\n"
      ]
    },
    {
      "cell_type": "code",
      "metadata": {
        "id": "nen9M7Vqj5cy"
      },
      "source": [
        "student_name = \"Salvador Robles Herrera\"\n",
        "student_id = \"80683116\""
      ],
      "execution_count": null,
      "outputs": []
    },
    {
      "cell_type": "markdown",
      "metadata": {
        "id": "BP7b0ZYDnoV6"
      },
      "source": [
        "### [20 points] Problem 1\n",
        "\n",
        "a) Write a method that receives the *root* of a **binary tree** and a *key* as input and determines whether or not the key is in the tree. Assume the following class is used to store tree nodes.\n",
        "\n",
        "    class TreeNode:\n",
        "      def __init__(self, item, left=None, right=None):\n",
        "        self.item = item\n",
        "        self.left = left\n",
        "        self.right = right\n"
      ]
    },
    {
      "cell_type": "code",
      "metadata": {
        "id": "sbwF-hLQtfBA"
      },
      "source": [
        "def search_bt(root, key):\n",
        "  # Your code goes here\n",
        "  if root is None:\n",
        "    return False\n",
        "\n",
        "  if root.item == key:\n",
        "    return True\n",
        "\n",
        "  leftSide = search_bt(root.left, key)\n",
        "  rightSide = search_bt(root.right, key)\n",
        "\n",
        "  return leftSide | rightSide\n"
      ],
      "execution_count": null,
      "outputs": []
    },
    {
      "cell_type": "markdown",
      "metadata": {
        "id": "v8qlmz78o48I"
      },
      "source": [
        "b) What is the time complexity of your algorihtm?\n",
        "\n",
        "     O(n) There would be an average of n/2 searches which is O(n)\n",
        "\n",
        "c) What is the space complexity of your algorithm?\n",
        "\n",
        "     O(n) At most there would be n values in the stack which would be the height of the tree"
      ]
    },
    {
      "cell_type": "markdown",
      "metadata": {
        "id": "5QuuRRw0pK_e"
      },
      "source": [
        "### [20 points] Problem 2\n",
        "\n",
        "a) Write a method that receives the *root* of a **binary search tree** and a *key* as input and determines whether or not the key is in the tree. Assume the following class is used to store tree nodes.\n",
        "\n",
        "    class TreeNode:\n",
        "      def __init__(self, item, left=None, right=None):\n",
        "        self.item = item\n",
        "        self.left = left\n",
        "        self.right = right\n"
      ]
    },
    {
      "cell_type": "code",
      "metadata": {
        "id": "iXGh-p04pQ9U"
      },
      "source": [
        "def search_bst(root, key):\n",
        "  # Your code goes here\n",
        "  if root is None:\n",
        "    return False\n",
        "\n",
        "  if root.item == key:\n",
        "    return True\n",
        "\n",
        "  if key > root.item:\n",
        "    return search_bst(root.right,key)\n",
        "  return search_bst(root.left, key)"
      ],
      "execution_count": null,
      "outputs": []
    },
    {
      "cell_type": "markdown",
      "metadata": {
        "id": "UsBU9qX9pURk"
      },
      "source": [
        "b) What is the time complexity of your algorihtm?\n",
        "\n",
        "O(n) this since the BST is not necessarily a Balanced BST \n",
        "\n",
        "c) What is the space complexity of your algorithm?\n",
        "\n",
        "O(n) that would be from n elements on the stack  \n",
        "\n",
        "d) What is the time complexity of your algorithm if the BST known to be height-balanced?\n",
        "\n",
        "O(logn) There would be half of the elements deleted from possible results\n",
        "\n",
        "e) What is the space complexity of your algorithm if the BST known to be height-balanced?\n",
        "\n",
        "O(logn) Which would the number of elements in the stack"
      ]
    },
    {
      "cell_type": "markdown",
      "metadata": {
        "id": "T5hZQ_B7pxTf"
      },
      "source": [
        "### [20 points] Problem 3\n",
        "\n",
        "a) Write a method that receives the *root* of a **binary tree** as input and returns the sum of all of all the values stored in the tree. Assume the following class is used to store tree nodes.\n",
        "\n",
        "    class TreeNode:\n",
        "      def __init__(self, item, left=None, right=None):\n",
        "        self.item = item\n",
        "        self.left = left\n",
        "        self.right = right\n"
      ]
    },
    {
      "cell_type": "code",
      "metadata": {
        "id": "Bn7i5GSEqDSm"
      },
      "source": [
        "def sum_all_nodes(root):\n",
        "  # Your code goes here\n",
        "  if root is None:\n",
        "    return 0\n",
        "\n",
        "  leftSide = sum_all_nodes(root.left)\n",
        "  rightSide = sum_all_nodes(root.right)\n",
        "\n",
        "  return root.item + leftSide + rightSide  \n"
      ],
      "execution_count": null,
      "outputs": []
    },
    {
      "cell_type": "markdown",
      "metadata": {
        "id": "6u5ZZFR1qDk3"
      },
      "source": [
        "b) What is the time complexity of your algorihtm?\n",
        "\n",
        "O(n) since you have to cross every element in the tree\n",
        "\n",
        "c) What is the space complexity of your algorithm?\n",
        "\n",
        "O(n) elements in the stack"
      ]
    },
    {
      "cell_type": "markdown",
      "metadata": {
        "id": "nnYrmVpfqOik"
      },
      "source": [
        "### [20 points] Problem 4\n",
        "\n",
        "a) Write a method that receives the *root* of a **balanced binary search tree** and returns the sum of values of all nodes with value between *min_val* and *max_val* (inclusive). \n",
        "\n",
        "\tExamples:\n",
        "\t\t\n",
        "            7 \n",
        "          /    \\\n",
        "        3      10      \n",
        "      /   \\   /   \\\n",
        "    -1    5   9    12\n",
        "\n",
        "    min_val = 2, max_val = 10  →  3 + 5 + 7 + 9 + 10 = 34\n",
        "    min_val = 3, max_val = 8  →  3 + 5 + 7 = 15\n",
        "    min_val = 10, max_val = 20  →  10 + 12 = 22\n",
        "    min_val = 20, max_val = 30  →  0\n",
        "\n",
        "Assume the following class is used to store tree nodes.\n",
        "\n",
        "    class TreeNode:\n",
        "      def __init__(self, item, left=None, right=None):\n",
        "        self.item = item\n",
        "        self.left = left\n",
        "        self.right = right\n"
      ]
    },
    {
      "cell_type": "markdown",
      "metadata": {
        "id": "t613nLw97Mrg"
      },
      "source": [
        "b) What is the time complexity of your algorithm?\n",
        "\n",
        "O(n)\n",
        "\n",
        "c) What is the space complexity of your algorithm?\n",
        "\n",
        " O(logn) At most there would be logn activations records in the stack\n"
      ]
    },
    {
      "cell_type": "code",
      "metadata": {
        "id": "0EG2I81gq_cL"
      },
      "source": [
        "def range_sum(root, min_val, max_val):\n",
        "  # Your code goes here\n",
        "  if root is None:\n",
        "    return 0\n",
        "\n",
        "  leftSide = range_sum(root.left, min_val, max_val)\n",
        "  rightSide = range_sum(root.right, min_val, max_val)\n",
        "\n",
        "  if root.item >= min_val and root.item <= max_val:\n",
        "    return root.item + leftSide + rightSide\n",
        "  return leftSide + rightSide\n",
        "\n",
        "def range_sum2(root, min_val, max_val):\n",
        "  if root is None:\n",
        "    return 0\n",
        "\n",
        "  if root.item < min_val: #Just recursively go to the right\n",
        "    return range_sum2(root.right, min_val, max_val)\n",
        "  if root.item > max_val: #Just recursively go to the left\n",
        "    return range_sum2(root.left, min_val, max_val)\n",
        "\n",
        "  return root.item + range_sum2(root.right, min_val, max_val) + range_sum2(root.left, min_val, max_val)"
      ],
      "execution_count": null,
      "outputs": []
    },
    {
      "cell_type": "markdown",
      "metadata": {
        "id": "jyO2Yfp3xxny"
      },
      "source": [
        "###[20 points] Problem 5\n",
        "\n",
        "Write a method that receives the roots of two binary trees as input, and determines if they are identical. Two trees are identical if they are structurally the same, and every corresponding pair of nodes contain the same value. \n",
        "\n",
        "          Examples:\n",
        "              \n",
        "          Tree 1\t\n",
        "          \n",
        "                  7 \n",
        "                /    \\  \n",
        "              3      10      \t \n",
        "            /   \\   /   \\\n",
        "          -1    5   9    12\t         \n",
        "          \n",
        "          Tree 2\n",
        "                  7 \n",
        "                /    \\  \n",
        "              3      10      \t \n",
        "            /   \\   /   \\\n",
        "          -1    5   9    12\t\n",
        "          \n",
        "          Output => True\n",
        "\n",
        "          -------------\n",
        "\n",
        "          Tree 1\n",
        "                  2 \n",
        "                /   \\  \n",
        "              3      1 \n",
        "          \n",
        "          Tree 2\n",
        "\n",
        "                  1 \n",
        "                /   \\  \n",
        "              2      3      \t\t\n",
        "              \n",
        "          Output => False\n",
        "\n",
        "          -------------\n",
        "\n",
        "          Tree 1\n",
        "                  7 \n",
        "                /    \\  \n",
        "              3      10      \t \n",
        "                    /   \\\n",
        "                   9    12\t         \n",
        "\n",
        "          Tree 2    \n",
        "                  7 \n",
        "                /    \\  \n",
        "              3      10      \t \n",
        "            /   \\\n",
        "           9    12\t\n",
        "          \n",
        "          Output => False\n",
        "\n"
      ]
    },
    {
      "cell_type": "code",
      "metadata": {
        "id": "L--EBSGK7DOK"
      },
      "source": [
        "def are_identical(root1, root2):\n",
        "  # Your code goes here\n",
        "  if root1 is None and root2 is None:\n",
        "    return True\n",
        "  if root1 is None or root2 is None:\n",
        "    return False\n",
        "\n",
        "  if root1.item != root2.item:\n",
        "    return False\n",
        "\n",
        "  leftSide = are_identical(root1.left, root2.left)\n",
        "  rightSide = are_identical(root1.right,root2.right)\n",
        "\n",
        "  return leftSide and rightSide"
      ],
      "execution_count": null,
      "outputs": []
    },
    {
      "cell_type": "markdown",
      "metadata": {
        "id": "vuy8wC9I7N8g"
      },
      "source": [
        "b) What is the time complexity of your algorihtm?\n",
        "\n",
        "O(n) where n is the number of elements in the tree with less elements\n",
        "\n",
        "c) What is the space complexity of your algorithm?\n",
        "\n",
        "O(n) This would be the height of the tree with lowest height. n since both are binary trees and not necessarilly BST \n"
      ]
    },
    {
      "cell_type": "markdown",
      "metadata": {
        "id": "Pvc8YZjiyMO5"
      },
      "source": [
        "## How to Submit \n",
        "\n",
        "1. File > Download .ipynb\n",
        "2. Go to Blackboard, find the submission page, and upload the .ipynb file you just downloaded."
      ]
    }
  ]
}