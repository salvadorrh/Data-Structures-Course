{
  "nbformat": 4,
  "nbformat_minor": 0,
  "metadata": {
    "colab": {
      "name": "Copy of CS 2302 - Quiz 4 - Time Complexity (Recursive Algorithms)",
      "provenance": [],
      "collapsed_sections": []
    },
    "kernelspec": {
      "name": "python3",
      "display_name": "Python 3"
    }
  },
  "cells": [
    {
      "cell_type": "markdown",
      "metadata": {
        "colab_type": "text",
        "id": "MKsRDH5ZUdfasdv"
      },
      "source": [
        "# CS 2302 - Quiz 4 - Time Complexity + Lists + Stacks"
      ]
    },
    {
      "cell_type": "markdown",
      "metadata": {
        "colab_type": "text",
        "id": "overview"
      },
      "source": [
        "## **Before you start**\n",
        "\n",
        "Make a copy of this Colab by clicking on File > Save a Copy in Drive\n"
      ]
    },
    {
      "cell_type": "code",
      "metadata": {
        "id": "nen9M7Vqj5cy",
        "colab_type": "code",
        "colab": {}
      },
      "source": [
        "student_name = \"Salvador Robles Herrera\"\n",
        "student_id = \"80683116\""
      ],
      "execution_count": 1,
      "outputs": []
    },
    {
      "cell_type": "markdown",
      "metadata": {
        "id": "BP7b0ZYDnoV6",
        "colab_type": "text"
      },
      "source": [
        "### [10 points] Problem 1\n",
        "\n",
        "What is the recurrence equation that describes the running time of the following recursive function? T(n) = a T(n / b) + n ^ k. What are the values of a, b, and k?\n",
        "\n",
        "    def f(a, n): # First call: f(a, len(a))\n",
        "      if n > 0:\n",
        "          f(a, n // 2)\n",
        "          f(a, n // 2)\n",
        "\n",
        "          for i in range(len(a)):\n",
        "            for j in range(len(a)):\n",
        "              print(a[0])\n",
        "\n"
      ]
    },
    {
      "cell_type": "code",
      "metadata": {
        "id": "sbwF-hLQtfBA",
        "colab_type": "code",
        "colab": {}
      },
      "source": [
        "def get_prob1_ans():\n",
        "  a = 2 \n",
        "  b = 2\n",
        "  k = 2\n",
        "\n",
        "  return a, b, k\n"
      ],
      "execution_count": 2,
      "outputs": []
    },
    {
      "cell_type": "markdown",
      "metadata": {
        "id": "EwVqUV_mJXQi",
        "colab_type": "text"
      },
      "source": [
        "### [10 points] Problem 2\n",
        "\n",
        "What is the recurrence equation that describes the running time of the following recursive function? T(n) = a T(n / b) + n ^ k. What are the values of a, b, and k?\n",
        "\n",
        "    def f(a, n): # First call: f(a, len(a))\n",
        "      if n > 0:\n",
        "\n",
        "          for i in range(3):\n",
        "              f(a, n // 2)\n",
        "              f(a, n // 2)\n",
        "\n",
        "          for i in range(len(a) * len(a)):\n",
        "              print(a[0])\n",
        "\n",
        "          for i in range(len(a)):\n",
        "              print(a[0])\n",
        "\n",
        "\n"
      ]
    },
    {
      "cell_type": "code",
      "metadata": {
        "id": "hkIdM4frJoHU",
        "colab_type": "code",
        "colab": {}
      },
      "source": [
        "def get_prob2_ans():\n",
        "  a = 6\n",
        "  b = 2\n",
        "  k = 2\n",
        "\n",
        "  return a, b, k\n"
      ],
      "execution_count": 4,
      "outputs": []
    },
    {
      "cell_type": "markdown",
      "metadata": {
        "id": "WPHu5z5dJvVY",
        "colab_type": "text"
      },
      "source": [
        "### [10 points] Problem 3\n",
        "\n",
        "What is the recurrence equation that describes the running time of the following recursive function? T(n) = a T(n / b) + n ^ k. What are the values of a, b, and k?\n",
        "\n",
        "    def f(a, n): # First call: f(a, len(a))\n",
        "      if n > 0:\n",
        "\n",
        "          for i in range(4):\n",
        "              f(a, n // 8)\n",
        "              f(a, n // 8)\n",
        "\n",
        "          print(\"done\")\n",
        "\n",
        "\n"
      ]
    },
    {
      "cell_type": "code",
      "metadata": {
        "id": "9ZOVInJ1J7SD",
        "colab_type": "code",
        "colab": {}
      },
      "source": [
        "def get_prob3_ans():\n",
        "  a = 8 \n",
        "  b = 8\n",
        "  k = 0\n",
        "\n",
        "  return a, b, k\n"
      ],
      "execution_count": 8,
      "outputs": []
    },
    {
      "cell_type": "markdown",
      "metadata": {
        "id": "GCI6P28JKDuU",
        "colab_type": "text"
      },
      "source": [
        "## Master Theorem:\n",
        "\n",
        "\\\\(T(n) = O(n^{log_b  a})\\\\) if \\\\(a>b^k \\\\)\n",
        "\n",
        "\\\\(T(n) = O(n^klog n)\\\\) if \\\\(a=b^k\\\\)\n",
        "\n",
        "\\\\(T(n) = O(n^k)\\\\) if \\\\(a<b^k\\\\)\n",
        "\n",
        "\n"
      ]
    },
    {
      "cell_type": "markdown",
      "metadata": {
        "id": "AIxprFOUKbZL",
        "colab_type": "text"
      },
      "source": [
        "### [10 points] Problem 4\n",
        "\n",
        "\n",
        "Solve the following recurrence equation:\n",
        "\n",
        "\\\\(T(1) = 1\\\\)\n",
        "\n",
        "\\\\(T(n) = 2 T( n / 2) + 1\\\\)\n",
        "\n",
        "| Option 0 &nbsp; \t| Option 1 &nbsp; \t| Option 2 &nbsp; \t| Option 3 &nbsp; \t| Option 4 &nbsp; \t| Option 5 &nbsp; \t| Option 6 &nbsp; \t| Option 7 &nbsp; \t|\n",
        "|-\t|-\t|-\t|-\t|-\t|-\t|-\t|-\t|\n",
        "| \\\\(O(n^3)\\\\)\t| \\\\(O(n^2)\\\\) \t| \\\\(O(n^2 log n)\\\\) \t| \\\\(O(n^3 log n)\\\\) | \\\\(O(n log n)\\\\)\t| \\\\(O(n)\\\\)\t|  \\\\(O(log n)\\\\)\t| Something else \t|"
      ]
    },
    {
      "cell_type": "code",
      "metadata": {
        "id": "PetZP0jZLpWi",
        "colab_type": "code",
        "colab": {}
      },
      "source": [
        "def get_prob4_ans():\n",
        "\n",
        "  return 5  # If you think the answer to \n",
        "            # the problem is option n, return n\n"
      ],
      "execution_count": 14,
      "outputs": []
    },
    {
      "cell_type": "markdown",
      "metadata": {
        "id": "xtyHQupQLt94",
        "colab_type": "text"
      },
      "source": [
        "### [10 points] Problem 5\n",
        "\n",
        "\n",
        "Solve the following recurrence equation:\n",
        "\n",
        "\\\\(T(1) = 1\\\\)\n",
        "\n",
        "\\\\(T(n) = T( n / 2) + 1\\\\)\n",
        "\n",
        "| Option 0 &nbsp; \t| Option 1 &nbsp; \t| Option 2 &nbsp; \t| Option 3 &nbsp; \t| Option 4 &nbsp; \t| Option 5 &nbsp; \t| Option 6 &nbsp; \t| Option 7 &nbsp; \t|\n",
        "|-\t|-\t|-\t|-\t|-\t|-\t|-\t|-\t|\n",
        "| \\\\(O(n^3)\\\\)\t| \\\\(O(n^2)\\\\) \t| \\\\(O(n^2 log n)\\\\) \t| \\\\(O(n^3 log n)\\\\) | \\\\(O(n log n)\\\\)\t| \\\\(O(n)\\\\)\t|  \\\\(O(log n)\\\\)\t| Something else \t|"
      ]
    },
    {
      "cell_type": "code",
      "metadata": {
        "id": "VGrUSkmMLsz8",
        "colab_type": "code",
        "colab": {}
      },
      "source": [
        "def get_prob5_ans():\n",
        "\n",
        "  return 6  # If you think the answer to \n",
        "            # the problem is option n, return n\n"
      ],
      "execution_count": 9,
      "outputs": []
    },
    {
      "cell_type": "markdown",
      "metadata": {
        "id": "L3_JiS8bMCtF",
        "colab_type": "text"
      },
      "source": [
        "### [10 points] Problem 6\n",
        "\n",
        "\n",
        "Solve the following recurrence equation:\n",
        "\n",
        "\\\\(T(1) = 1\\\\)\n",
        "\n",
        "\\\\(T(n) = 4 T( n / 2) + n^3\\\\)\n",
        "\n",
        "| Option 0 &nbsp; \t| Option 1 &nbsp; \t| Option 2 &nbsp; \t| Option 3 &nbsp; \t| Option 4 &nbsp; \t| Option 5 &nbsp; \t| Option 6 &nbsp; \t| Option 7 &nbsp; \t|\n",
        "|-\t|-\t|-\t|-\t|-\t|-\t|-\t|-\t|\n",
        "| \\\\(O(n^3)\\\\)\t| \\\\(O(n^2)\\\\) \t| \\\\(O(n^2 log n)\\\\) \t| \\\\(O(n^3 log n)\\\\) | \\\\(O(n log n)\\\\)\t| \\\\(O(n)\\\\)\t|  \\\\(O(log n)\\\\)\t| Something else \t|"
      ]
    },
    {
      "cell_type": "code",
      "metadata": {
        "id": "OyBPuE8aMZze",
        "colab_type": "code",
        "colab": {}
      },
      "source": [
        "def get_prob6_ans():\n",
        "\n",
        "  return 0  # If you think the answer to \n",
        "            # the problem is option n, return n\n"
      ],
      "execution_count": 10,
      "outputs": []
    },
    {
      "cell_type": "markdown",
      "metadata": {
        "id": "8eoUN0WhMipG",
        "colab_type": "text"
      },
      "source": [
        "### [20 points] Problem 7\n",
        "\n",
        "Complete the implementation of the *find* method. This method receives a parameter called *key*, and searches for it in the list. If *key* is not present in the list, the method must return -1. If *key* is in the list, the method must return the index of where key is located in the list. If *key* appears multiple times in the list, the lowest index value should be returned. "
      ]
    },
    {
      "cell_type": "code",
      "metadata": {
        "id": "CKkWHpTJNmlO",
        "colab_type": "code",
        "colab": {}
      },
      "source": [
        "class LinkedListNode:\n",
        "  def __init__(self, item=None, next=None):\n",
        "    self.item = item\n",
        "    self.next = next\n",
        "\n",
        "class LinkedList:\n",
        "  def __init__(self):\n",
        "    self.clear()\n",
        "\n",
        "  def clear(self):\n",
        "    self.head = None\n",
        "    self.tail = None\n",
        "    self.size = 0\n",
        "\n",
        "  def is_empty(self):\n",
        "    return self.size == 0\n",
        "\n",
        "  def append(self, item):\n",
        "\n",
        "    new_node = LinkedListNode(item=item)\n",
        "\n",
        "    if self.is_empty():\n",
        "      self.head = new_node\n",
        "      self.tail = new_node\n",
        "    else:\n",
        "      self.tail.next = new_node\n",
        "      self.tail = new_node\n",
        "\n",
        "    self.size += 1\n",
        "\n",
        "  def prepend(self, item):\n",
        "\n",
        "    self.head = LinkedListNode(item=item, next=self.head)\n",
        "\n",
        "    if self.is_empty():\n",
        "      self.tail = self.head        \n",
        "\n",
        "    self.size += 1        \n",
        "\n",
        "  def insert(self, idx, item):\n",
        "    if idx < 0 or idx > self.size:\n",
        "      raise Exception(\"Cannot insert -Index out of bounds\")\n",
        "    elif idx == 0:\n",
        "      self.prepend(item=item)\n",
        "    elif idx == self.size:\n",
        "      self.append(item=item)\n",
        "    else:\n",
        "      new_node = LinkedListNode(item=item)\n",
        "\n",
        "      temp = self.head\n",
        "      for _ in range(idx - 1):\n",
        "        temp = temp.next\n",
        "\n",
        "      new_node.next = temp.next\n",
        "      temp.next = new_node\n",
        "\n",
        "      self.size += 1\n",
        "\n",
        "  def remove_first(self):\n",
        "    if self.is_empty():\n",
        "      raise Exception(\"Cannot remove - list is empty\")\n",
        "    elif self.size == 1:\n",
        "      self.clear()\n",
        "    else:\n",
        "      self.head = self.head.next\n",
        "      self.size -= 1\n",
        "\n",
        "  def remove_last(self):\n",
        "    if self.is_empty():\n",
        "      raise Exception(\"Cannot remove - list is empty\")\n",
        "    elif self.size == 1:\n",
        "      self.clear()\n",
        "    else:\n",
        "      temp = self.head\n",
        "\n",
        "      while temp.next.next:\n",
        "        temp = temp.next\n",
        "\n",
        "      temp.next = None\n",
        "      self.tail = temp\n",
        "      self.size -= 1\n",
        "\n",
        "  def remove(self, idx):\n",
        "    if self.is_empty():\n",
        "      raise Exception(\"Cannot remove - list is empty\")\n",
        "    elif idx < 0 or idx >= self.size:\n",
        "      raise Exception(\"Cannot remove - Index out of bounds\")\n",
        "    elif idx == 0:\n",
        "      self.remove_first()\n",
        "    elif idx == self.size - 1:\n",
        "      self.remove_last()\n",
        "    else:\n",
        "      temp = self.head\n",
        "\n",
        "      for _ in range(idx - 1):\n",
        "        temp = temp.next\n",
        "\n",
        "      temp.next = temp.next.next\n",
        "\n",
        "      self.size -= 1\n",
        "\n",
        "\n",
        "  def get(self, idx):\n",
        "    if idx < 0 or idx >= self.size:\n",
        "      raise Exception(\"Cannot retrieve - Index out of bounds\")\n",
        "    elif idx == 0:\n",
        "      return self.head.item\n",
        "    elif idx == self.size - 1:\n",
        "      return self.tail.item\n",
        "    else:\n",
        "      temp = self.head\n",
        "\n",
        "      for _ in range(idx):\n",
        "        temp = temp.next\n",
        "\n",
        "      return temp.item\n",
        "\n",
        "\n",
        "  def __str__(self):\n",
        "    out_lst = []\n",
        "    temp = self.head\n",
        "\n",
        "    while temp:\n",
        "      out_lst.append(str(temp.item))\n",
        "      out_lst.append(' ')\n",
        "      temp = temp.next\n",
        "\n",
        "    return ''.join(out_lst)\n",
        "\n",
        "  def find(self, key):\n",
        "    # YOUR CODE GOES HERE\n",
        "    if self.is_empty():\n",
        "      raise Exception(\"Cannot find - list is empty\")\n",
        "\n",
        "    index = 0\n",
        "    temp = self.head\n",
        "\n",
        "    while temp:\n",
        "      if temp.item == key:\n",
        "        return index\n",
        "      temp = temp.next\n",
        "      index += 1\n",
        "\n",
        "    return -1    \n"
      ],
      "execution_count": 37,
      "outputs": []
    },
    {
      "cell_type": "markdown",
      "metadata": {
        "id": "xdDrj8aBPaKy",
        "colab_type": "text"
      },
      "source": [
        "### [20 points] Problem 8\n",
        "Write a non-recursive method of the *_gen_perms* method by creating a call stack and simulating the creation and deletion of activation records"
      ]
    },
    {
      "cell_type": "code",
      "metadata": {
        "id": "N8LY7-sJPdUn",
        "colab_type": "code",
        "colab": {}
      },
      "source": [
        "def get_perms(nums):\n",
        "  all_perms = []\n",
        "\n",
        "  _gen_perms(pending_nums=nums,\n",
        "             curr_perm=[],\n",
        "             all_perms=all_perms)\n",
        "\n",
        "  return all_perms\n",
        "\n",
        "def _gen_perms(pending_nums, curr_perm, all_perms):\n",
        "\n",
        "  # check if list pending_nums is empty; curr_permutation is complete\n",
        "  if not pending_nums:  \n",
        "    all_perms.append(curr_perm)\n",
        "  else:\n",
        "    # iterate over all possible options to continue the generation of curr_perm\n",
        "    for i in range(len(pending_nums)):\n",
        "      # add pending_nums[i] to the permutation we are currently generating\n",
        "      extended_perm = curr_perm.copy()\n",
        "      extended_perm.append(pending_nums[i])\n",
        "\n",
        "      # remove pending_nums[i] before making a recursive call since that item\n",
        "      # is already included in the permutation being generated\n",
        "      itr_pending_nums = pending_nums[:i] + pending_nums[i+1:] \n",
        "\n",
        "      _gen_perms(pending_nums=itr_pending_nums,\n",
        "                curr_perm=extended_perm,\n",
        "                all_perms=all_perms)\n",
        "      \n",
        "def _gen_perms_non_recursive(pending_nums, curr_perm, all_perms):\n",
        "  # YOUR CODE GOES HERE\n",
        "  call_stack = []\n",
        "  call_stack.append(pending_nums, curr_perm, all_perms)\n",
        "\n",
        "  while call_stack:\n",
        "    pending_nums, curr_perm, all_perms = call_stack.pop()\n",
        "\n",
        "    if not pending_nums:  \n",
        "      all_perms.append(curr_perm)\n",
        "    else:\n",
        "      # iterate over all possible options to continue the generation of curr_perm\n",
        "      for i in range(len(pending_nums)):\n",
        "        # add pending_nums[i] to the permutation we are currently generating\n",
        "        extended_perm = curr_perm.copy()\n",
        "        extended_perm.append(pending_nums[i])\n",
        "\n",
        "        # remove pending_nums[i] before making a recursive call since that item\n",
        "        # is already included in the permutation being generated\n",
        "        itr_pending_nums = pending_nums[:i] + pending_nums[i+1:] \n",
        "        \n",
        "        call_stack.append(itr_pending_nums, extended_perm, all_perms)\n",
        "  return"
      ],
      "execution_count": 35,
      "outputs": []
    },
    {
      "cell_type": "markdown",
      "metadata": {
        "id": "Pvc8YZjiyMO5",
        "colab_type": "text"
      },
      "source": [
        "## How to Submit \n",
        "\n",
        "1. File > Download .ipynb\n",
        "2. Go to Blackboard, find the submission page, and upload the .ipynb file you just downloaded."
      ]
    }
  ]
}