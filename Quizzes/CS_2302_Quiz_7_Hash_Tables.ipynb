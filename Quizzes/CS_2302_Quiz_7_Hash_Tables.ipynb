{
  "nbformat": 4,
  "nbformat_minor": 0,
  "metadata": {
    "colab": {
      "name": "Copy of CS 2302 - Quiz 7 - Hash Tables",
      "provenance": [],
      "collapsed_sections": [
        "Pvc8YZjiyMO5"
      ]
    },
    "kernelspec": {
      "name": "python3",
      "display_name": "Python 3"
    }
  },
  "cells": [
    {
      "cell_type": "markdown",
      "metadata": {
        "id": "MKsRDH5ZUdfasdv"
      },
      "source": [
        "# CS 2302 - Quiz 7 - Hash Tables"
      ]
    },
    {
      "cell_type": "markdown",
      "metadata": {
        "id": "overview"
      },
      "source": [
        "## **Before you start**\n",
        "\n",
        "Make a copy of this Colab by clicking on File > Save a Copy in Drive\n"
      ]
    },
    {
      "cell_type": "code",
      "metadata": {
        "id": "nen9M7Vqj5cy"
      },
      "source": [
        "student_name = \"Salvador Robles Herrera\"\n",
        "student_id = \"80683116\""
      ],
      "execution_count": null,
      "outputs": []
    },
    {
      "cell_type": "markdown",
      "metadata": {
        "id": "ktkKhXyqDkFi"
      },
      "source": [
        "## Part A - Hash Tables Implementation\n"
      ]
    },
    {
      "cell_type": "markdown",
      "metadata": {
        "id": "BP7b0ZYDnoV6"
      },
      "source": [
        "### [10 points] Problem 1\n",
        "\n",
        "Show the configuration of an initially empty table of size 7 after performing the following sequence of insertions: 12; 3; 21; 14; 11; 8; 9; 7; 6; 1; 22; 19. Use the following hash function: hash(key) = key % table_size\n",
        "\n"
      ]
    },
    {
      "cell_type": "markdown",
      "metadata": {
        "id": "StWMqRRPJKdZ"
      },
      "source": [
        "bucket 0 -> [21, 14, 7]\n",
        "\n",
        "bucket 1 -> [8, 22, 1]\n",
        "\n",
        "bucket 2 -> [9]\n",
        "\n",
        "bucket 3 -> [3]\n",
        "\n",
        "bucket 4 -> [11]\n",
        "\n",
        "bucket 5 -> [12, 19]\n",
        "\n",
        "bucket 6 -> [6]"
      ]
    },
    {
      "cell_type": "markdown",
      "metadata": {
        "id": "7yBD7ozhXAB0"
      },
      "source": [
        "### [10 points] Problem 2\n",
        "\n",
        "The load factor of a hash table is the number of elements in the table divided by the size of the table, or equivalently, the average length of the lists in the table. Complete the implementation of the method *load_factor*. which computes and returns the hash table's load factor.\n",
        "\n"
      ]
    },
    {
      "cell_type": "markdown",
      "metadata": {
        "id": "IhU9L2JNXVp7"
      },
      "source": [
        "### [10 points] Problem 3\n",
        "\n",
        "In the worst case, the access to an element in the table will be proportional to the length of the longest list in the table. Complete the implementation of the method *size_longest_list*, which computes and returns the size of the longest list.  \n",
        "\n"
      ]
    },
    {
      "cell_type": "markdown",
      "metadata": {
        "id": "Wf9tZ4V6Xnux"
      },
      "source": [
        "### [10 points] Problem 4\n",
        "\n",
        "Complete the implementation of the method *is_valid*. This method verifies that every key has been inserted in the right list in the hash table.\n"
      ]
    },
    {
      "cell_type": "markdown",
      "metadata": {
        "id": "qPvASo2dX89V"
      },
      "source": [
        "### [10 points] Problem 5\n",
        "\n",
        "Complete the implementation of the method *insert_asc*. The standard insert method appends elements to the end of the appropriate list. In contrast, *insert_asc* maintains each of the lists sorted in ascending order.\n",
        "\n"
      ]
    },
    {
      "cell_type": "markdown",
      "metadata": {
        "id": "vKHbGUjME4Tz"
      },
      "source": [
        "### [10 points] Problem 6\n",
        "\n",
        "Complete the implementation of the method *resize*. This method receives a parameter *size* as input and resizes the internal table to be of the new specified size. Make sure you copy over the exisiting keys that are stored in the table.\n",
        "\n"
      ]
    },
    {
      "cell_type": "markdown",
      "metadata": {
        "id": "514cUsW0GIU2"
      },
      "source": [
        "### [10 points] Problem 7\n",
        "\n",
        "Complete the implementation of the method *is_equal*. This method receives another hash table as input and returns True iff self.table and hash_table.table contain the same keys; False, otherwise. Notice that the two hash tables may have different sizes, but still store exactly the same keys.\n",
        "\n"
      ]
    },
    {
      "cell_type": "markdown",
      "metadata": {
        "id": "u25k6YQTaWIi"
      },
      "source": [
        "**For all coding questions, feel free to write helper methods, if necessary**"
      ]
    },
    {
      "cell_type": "code",
      "metadata": {
        "id": "q2iUTtHNX72E",
        "outputId": "46151fa6-0ca6-41d2-c437-75716c37ec46",
        "colab": {
          "base_uri": "https://localhost:8080/",
          "height": 433
        }
      },
      "source": [
        "class HashTable:\n",
        "    # Builds a hash table of size 'size'\n",
        "    def __init__(self, size):\n",
        "        self.table = [[] for i in range(size)]\n",
        "\n",
        "    def hash(self, k):\n",
        "        return k % len(self.table)\n",
        "\n",
        "    # Inserts k in the appropriate bucket if k is not already there\n",
        "    def insert(self, k):\n",
        "        loc = self.hash(k)\n",
        "        bucket = self.table[loc]\n",
        "\n",
        "        if not k in bucket:\n",
        "            bucket.append(k)\n",
        "\n",
        "    # Removes k if it is in the table. If k is not in the table, an Exception is raised\n",
        "    def remove(self, k):\n",
        "        loc = self.hash(k)\n",
        "        bucket = self.table[loc]\n",
        "        if k in bucket:\n",
        "            bucket.remove(k)\n",
        "        else:\n",
        "            raise ValueError('hashtable.remove(k): k is not in the table')\n",
        "\n",
        "    def find(self,k):\n",
        "        # Returns bucket and index where k is stored in the table\n",
        "        # If k is not in table, return None and -1 as the bucket and index\n",
        "        loc = self.hash(k)\n",
        "        bucket = self.table[loc]\n",
        "\n",
        "        if k in bucket:\n",
        "            index = bucket.index(k)\n",
        "            return bucket, index\n",
        "\n",
        "        return None, -1\n",
        "\n",
        "    def __str__(self):\n",
        "        s = \"\"\n",
        "        for i in range(len(self.table)):\n",
        "            bucket = self.table[i]\n",
        "            s += str(i) + \": \"\n",
        "            s += str(bucket)\n",
        "            s += \"\\n\"\n",
        "        return s\n",
        "\n",
        "    def load_factor(self):  # Problem 2\n",
        "        count = 0\n",
        "        for i in self.table:\n",
        "          count += len(i)\n",
        "        return count / len(self.table)\n",
        "\n",
        "    def size_longest_list(self):  # Problem 3\n",
        "        size = 0\n",
        "        for i in self.table:\n",
        "          if len(i) > size:\n",
        "            size = len(i)\n",
        "        return size\n",
        "\n",
        "    def is_valid(self):  # Problem 4\n",
        "        count = 0\n",
        "        for i in self.table:\n",
        "          for j in i:\n",
        "            if j % len(self.table) != count:\n",
        "              return False\n",
        "          count += 1\n",
        "        return True\n",
        "\n",
        "    def insert_asc(self, k):  # Problem 5\n",
        "        loc = self.hash(k)\n",
        "        bucket = self.table[loc]\n",
        "\n",
        "        if not k in bucket:\n",
        "            bucket.append(k)\n",
        "        \n",
        "        bucket.sort()\n",
        "\n",
        "    def resize(self, size):  # Problem 6\n",
        "\n",
        "        hash_table = HashTable(size)\n",
        "\n",
        "        for i in self.table:\n",
        "          for j in i:\n",
        "            hash_table.insert_asc(j)\n",
        "        \n",
        "        self.table = hash_table.table\n",
        "\n",
        "\n",
        "    def is_equal(self, hash_table):  # Problem 7\n",
        "        if self.size() != hash_table.size():\n",
        "          return False\n",
        "\n",
        "        for i in self.table:\n",
        "          for j in i:\n",
        "            if j not in hash_table.table[j % len(hash_table.table)]:\n",
        "              return False\n",
        "\n",
        "        return True\n",
        "\n",
        "    def size(self):\n",
        "        count = 0\n",
        "        for i in self.table:\n",
        "          for j in i:\n",
        "            count += 1\n",
        "        return count\n",
        "       \n",
        "def main():\n",
        "    hash_table = HashTable(4)\n",
        "    hash_table2 = HashTable (6)\n",
        "    nums = [12, 0, 1, 3, 5, 7]\n",
        "    for num in nums:\n",
        "        hash_table.insert_asc(num)\n",
        "        hash_table2.insert_asc(num)\n",
        "\n",
        "    hash_table2.insert_asc(8)\n",
        "    print(\"Size1: \", hash_table.size())\n",
        "    print(\"Size2: \", hash_table2.size())\n",
        "    print(hash_table)\n",
        "    print(hash_table.find(19))\n",
        "    print(hash_table.find(15))\n",
        "  #  hash_table.remove(19)\n",
        "    print(hash_table)\n",
        "\n",
        "    print(hash_table.load_factor())\n",
        "    print(hash_table.size_longest_list())\n",
        "    print(hash_table.is_valid())\n",
        "\n",
        "    hash_table.resize(5)\n",
        "\n",
        "    print(hash_table)\n",
        "    print(hash_table.is_equal(hash_table2))\n",
        "\n",
        "if __name__ == \"__main__\":\n",
        "    main()\n"
      ],
      "execution_count": null,
      "outputs": [
        {
          "output_type": "stream",
          "text": [
            "Size1:  6\n",
            "Size2:  7\n",
            "0: [0, 12]\n",
            "1: [1, 5]\n",
            "2: []\n",
            "3: [3, 7]\n",
            "\n",
            "(None, -1)\n",
            "(None, -1)\n",
            "0: [0, 12]\n",
            "1: [1, 5]\n",
            "2: []\n",
            "3: [3, 7]\n",
            "\n",
            "1.5\n",
            "2\n",
            "True\n",
            "0: [0, 5]\n",
            "1: [1]\n",
            "2: [7, 12]\n",
            "3: [3]\n",
            "4: []\n",
            "\n",
            "False\n"
          ],
          "name": "stdout"
        }
      ]
    },
    {
      "cell_type": "code",
      "metadata": {
        "id": "QJ-ggONcgmgz",
        "outputId": "3ba8d3d3-d9cf-4378-b959-00e90d50cde5",
        "colab": {
          "base_uri": "https://localhost:8080/",
          "height": 57
        }
      },
      "source": [
        "def not_string(s):\n",
        "  if len(s) < 4:\n",
        "    return s\n",
        "\n",
        "  sub = s[0:4]\n",
        "\n",
        "  if sub == \"not \":\n",
        "    return s\n",
        "\n",
        "  return \"not \" + s\n",
        "\n",
        "not_string(\"not this\")\n"
      ],
      "execution_count": null,
      "outputs": [
        {
          "output_type": "execute_result",
          "data": {
            "application/vnd.google.colaboratory.intrinsic+json": {
              "type": "string"
            },
            "text/plain": [
              "'not this'"
            ]
          },
          "metadata": {
            "tags": []
          },
          "execution_count": 5
        }
      ]
    },
    {
      "cell_type": "markdown",
      "metadata": {
        "id": "qPBWOIdwHGZc"
      },
      "source": [
        "## Part B - Sets and Dictionaries\n"
      ]
    },
    {
      "cell_type": "markdown",
      "metadata": {
        "id": "pHK_LaVoHg47"
      },
      "source": [
        "### [15 points] Problem 8\n",
        "\n",
        "Given an array of integers, return the indices of the two numbers that add up to a specific target.\n",
        "You may assume that each input would have exactly one solution, and you may not use the same element twice. Your solution must use a set or a dictionary, and have a time complexity of O(n).\n",
        "\n",
        "    Example:\n",
        "    Given nums = [2, 7, 11, 15], target = 9,\n",
        "    Because nums[0] + nums[1] = 2 + 7 = 9, return [0, 1].\n",
        "\n",
        "\n"
      ]
    },
    {
      "cell_type": "code",
      "metadata": {
        "id": "hgvsuBaEHw6L"
      },
      "source": [
        "def get_indices(nums, target):\n",
        "  indices = []\n",
        "  s = set()\n",
        "\n",
        "  for i in range(len(nums)):\n",
        "    if ((target - nums[i]) in s):\n",
        "      indices.append(i)\n",
        "      break\n",
        "    s.add(nums[i])\n",
        "\n",
        "  index = nums.index(target-nums[indices[0]])\n",
        "  indices.insert(0, index)\n",
        "\n",
        "  return indices # Return the two indices"
      ],
      "execution_count": null,
      "outputs": []
    },
    {
      "cell_type": "markdown",
      "metadata": {
        "id": "jDoUUdUGIR_G"
      },
      "source": [
        "Test your solution by calling them multiple times with different input values and comparing the output produced by your method to the expected output. For each test, add a short comment explaining why you think that test is appropiate. Do not write an excesive amount of tests; just write the number of tests you think you need and justify your decisions. "
      ]
    },
    {
      "cell_type": "code",
      "metadata": {
        "id": "CusW4-iKH6SF",
        "outputId": "dcdc3d18-6b03-4154-fc66-a8b5d908ba7b",
        "colab": {
          "base_uri": "https://localhost:8080/",
          "height": 69
        }
      },
      "source": [
        "# YOUR TEST CASES GO HERE\n",
        "\n",
        "print(\"What I got: \", get_indices([2, 7, 11, 15], 9), \" Expected: [0,1]\")\n",
        "print(\"What I got: \", get_indices([2, 7, 11, 15], 18), \" Expected: [1,2]\")\n",
        "print(\"What I got: \", get_indices([5, 5], 10), \" Expected: [0,1]\")"
      ],
      "execution_count": null,
      "outputs": [
        {
          "output_type": "stream",
          "text": [
            "What I got:  [0, 1]  Expected: [0,1]\n",
            "What I got:  [1, 2]  Expected: [1,2]\n",
            "What I got:  [0, 1]  Expected: [0,1]\n"
          ],
          "name": "stdout"
        }
      ]
    },
    {
      "cell_type": "markdown",
      "metadata": {
        "id": "BdapItTFIWlH"
      },
      "source": [
        "### [15 points] Problem 9\n",
        "\n",
        "Given a string of words separated by spaces, find the word that appears the most in the string.\n",
        "\n",
        "\n",
        "    Example:\n",
        "    Given “hello world hello hello world hi”\n",
        "\n",
        "    Return \"hello\"\n",
        "\n",
        "\n",
        "\n",
        "\n"
      ]
    },
    {
      "cell_type": "code",
      "metadata": {
        "id": "sNtyH6viJcnv"
      },
      "source": [
        "def most_frequent_word(s):\n",
        "  words = s.split(\" \")\n",
        "  map = {}\n",
        "\n",
        "  maxWord = 0\n",
        "  sWord = \"\"\n",
        "\n",
        "  for word in words:\n",
        "    if word in map:\n",
        "      map[word] += 1\n",
        "    else:\n",
        "      map[word] = 1\n",
        "    \n",
        "    if maxWord < map[word]:\n",
        "      maxWord = map[word]\n",
        "      sWord = word\n",
        "\n",
        "  return sWord"
      ],
      "execution_count": null,
      "outputs": []
    },
    {
      "cell_type": "markdown",
      "metadata": {
        "id": "y9kTDE2vJkR4"
      },
      "source": [
        "Test your solution by calling them multiple times with different input values and comparing the output produced by your method to the expected output. For each test, add a short comment explaining why you think that test is appropiate. Do not write an excesive amount of tests; just write the number of tests you think you need and justify your decisions. "
      ]
    },
    {
      "cell_type": "code",
      "metadata": {
        "id": "qjWptyKkJj0U",
        "outputId": "f359805d-ca96-4886-85fb-5f3e654e8224",
        "colab": {
          "base_uri": "https://localhost:8080/",
          "height": 69
        }
      },
      "source": [
        "# YOUR TEST CASES GO HERE\n",
        "\n",
        "print(\"What I got: \", most_frequent_word(\"Salvador is a Salvador\"), \" Expected: Salvador\")\n",
        "print(\"What I got: \", most_frequent_word(\"I felt happy because I saw the others were happy and because I knew I should feel happy, but I wasn’t really happy.\"), \" Expected: I\")\n",
        "print(\"What I got: \", most_frequent_word(\"a a a a b b b c c d d d d d\"), \" Expected: d\")"
      ],
      "execution_count": null,
      "outputs": [
        {
          "output_type": "stream",
          "text": [
            "What I got:  Salvador  Expected: Salvador\n",
            "What I got:  I  Expected: I\n",
            "What I got:  d  Expected: d\n"
          ],
          "name": "stdout"
        }
      ]
    },
    {
      "cell_type": "markdown",
      "metadata": {
        "id": "Pvc8YZjiyMO5"
      },
      "source": [
        "## How to Submit \n",
        "\n",
        "1. File > Download .ipynb\n",
        "2. Go to Blackboard, find the submission page, and upload the .ipynb file you just downloaded."
      ]
    }
  ]
}